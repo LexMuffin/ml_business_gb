{
 "cells": [
  {
   "cell_type": "code",
   "execution_count": 1,
   "metadata": {},
   "outputs": [],
   "source": [
    "import pandas as pd\n",
    "import numpy as np\n",
    "import matplotlib.pyplot as plt\n",
    "%matplotlib inline\n",
    "\n",
    "# Для работы с матрицами\n",
    "from scipy.sparse import csr_matrix\n",
    "\n",
    "# Матричная факторизация\n",
    "from implicit.als import AlternatingLeastSquares\n",
    "from implicit.nearest_neighbours import bm25_weight, tfidf_weight\n",
    "\n",
    "# Функции из 1-ого вебинара\n",
    "import os, sys\n",
    "\n",
    "module_path = os.path.abspath(os.path.join(os.pardir))\n",
    "if module_path not in sys.path:\n",
    "    sys.path.append(module_path)\n",
    "    \n",
    "from metrics import precision_at_k, recall_at_k"
   ]
  },
  {
   "cell_type": "code",
   "execution_count": 3,
   "metadata": {},
   "outputs": [
    {
     "data": {
      "text/html": [
       "<div>\n",
       "<style scoped>\n",
       "    .dataframe tbody tr th:only-of-type {\n",
       "        vertical-align: middle;\n",
       "    }\n",
       "\n",
       "    .dataframe tbody tr th {\n",
       "        vertical-align: top;\n",
       "    }\n",
       "\n",
       "    .dataframe thead th {\n",
       "        text-align: right;\n",
       "    }\n",
       "</style>\n",
       "<table border=\"1\" class=\"dataframe\">\n",
       "  <thead>\n",
       "    <tr style=\"text-align: right;\">\n",
       "      <th></th>\n",
       "      <th>user_id</th>\n",
       "      <th>basket_id</th>\n",
       "      <th>day</th>\n",
       "      <th>item_id</th>\n",
       "      <th>quantity</th>\n",
       "      <th>sales_value</th>\n",
       "      <th>store_id</th>\n",
       "      <th>retail_disc</th>\n",
       "      <th>trans_time</th>\n",
       "      <th>week_no</th>\n",
       "      <th>coupon_disc</th>\n",
       "      <th>coupon_match_disc</th>\n",
       "    </tr>\n",
       "  </thead>\n",
       "  <tbody>\n",
       "    <tr>\n",
       "      <th>0</th>\n",
       "      <td>2375</td>\n",
       "      <td>26984851472</td>\n",
       "      <td>1</td>\n",
       "      <td>1004906</td>\n",
       "      <td>1</td>\n",
       "      <td>1.39</td>\n",
       "      <td>364</td>\n",
       "      <td>-0.60</td>\n",
       "      <td>1631</td>\n",
       "      <td>1</td>\n",
       "      <td>0.0</td>\n",
       "      <td>0.0</td>\n",
       "    </tr>\n",
       "    <tr>\n",
       "      <th>1</th>\n",
       "      <td>2375</td>\n",
       "      <td>26984851472</td>\n",
       "      <td>1</td>\n",
       "      <td>1033142</td>\n",
       "      <td>1</td>\n",
       "      <td>0.82</td>\n",
       "      <td>364</td>\n",
       "      <td>0.00</td>\n",
       "      <td>1631</td>\n",
       "      <td>1</td>\n",
       "      <td>0.0</td>\n",
       "      <td>0.0</td>\n",
       "    </tr>\n",
       "    <tr>\n",
       "      <th>2</th>\n",
       "      <td>2375</td>\n",
       "      <td>26984851472</td>\n",
       "      <td>1</td>\n",
       "      <td>1036325</td>\n",
       "      <td>1</td>\n",
       "      <td>0.99</td>\n",
       "      <td>364</td>\n",
       "      <td>-0.30</td>\n",
       "      <td>1631</td>\n",
       "      <td>1</td>\n",
       "      <td>0.0</td>\n",
       "      <td>0.0</td>\n",
       "    </tr>\n",
       "    <tr>\n",
       "      <th>3</th>\n",
       "      <td>2375</td>\n",
       "      <td>26984851472</td>\n",
       "      <td>1</td>\n",
       "      <td>1082185</td>\n",
       "      <td>1</td>\n",
       "      <td>1.21</td>\n",
       "      <td>364</td>\n",
       "      <td>0.00</td>\n",
       "      <td>1631</td>\n",
       "      <td>1</td>\n",
       "      <td>0.0</td>\n",
       "      <td>0.0</td>\n",
       "    </tr>\n",
       "    <tr>\n",
       "      <th>4</th>\n",
       "      <td>2375</td>\n",
       "      <td>26984851472</td>\n",
       "      <td>1</td>\n",
       "      <td>8160430</td>\n",
       "      <td>1</td>\n",
       "      <td>1.50</td>\n",
       "      <td>364</td>\n",
       "      <td>-0.39</td>\n",
       "      <td>1631</td>\n",
       "      <td>1</td>\n",
       "      <td>0.0</td>\n",
       "      <td>0.0</td>\n",
       "    </tr>\n",
       "    <tr>\n",
       "      <th>5</th>\n",
       "      <td>2375</td>\n",
       "      <td>26984851516</td>\n",
       "      <td>1</td>\n",
       "      <td>826249</td>\n",
       "      <td>2</td>\n",
       "      <td>1.98</td>\n",
       "      <td>364</td>\n",
       "      <td>-0.60</td>\n",
       "      <td>1642</td>\n",
       "      <td>1</td>\n",
       "      <td>0.0</td>\n",
       "      <td>0.0</td>\n",
       "    </tr>\n",
       "    <tr>\n",
       "      <th>6</th>\n",
       "      <td>2375</td>\n",
       "      <td>26984851516</td>\n",
       "      <td>1</td>\n",
       "      <td>1043142</td>\n",
       "      <td>1</td>\n",
       "      <td>1.57</td>\n",
       "      <td>364</td>\n",
       "      <td>-0.68</td>\n",
       "      <td>1642</td>\n",
       "      <td>1</td>\n",
       "      <td>0.0</td>\n",
       "      <td>0.0</td>\n",
       "    </tr>\n",
       "    <tr>\n",
       "      <th>7</th>\n",
       "      <td>2375</td>\n",
       "      <td>26984851516</td>\n",
       "      <td>1</td>\n",
       "      <td>1085983</td>\n",
       "      <td>1</td>\n",
       "      <td>2.99</td>\n",
       "      <td>364</td>\n",
       "      <td>-0.40</td>\n",
       "      <td>1642</td>\n",
       "      <td>1</td>\n",
       "      <td>0.0</td>\n",
       "      <td>0.0</td>\n",
       "    </tr>\n",
       "    <tr>\n",
       "      <th>8</th>\n",
       "      <td>2375</td>\n",
       "      <td>26984851516</td>\n",
       "      <td>1</td>\n",
       "      <td>1102651</td>\n",
       "      <td>1</td>\n",
       "      <td>1.89</td>\n",
       "      <td>364</td>\n",
       "      <td>0.00</td>\n",
       "      <td>1642</td>\n",
       "      <td>1</td>\n",
       "      <td>0.0</td>\n",
       "      <td>0.0</td>\n",
       "    </tr>\n",
       "    <tr>\n",
       "      <th>9</th>\n",
       "      <td>2375</td>\n",
       "      <td>26984851516</td>\n",
       "      <td>1</td>\n",
       "      <td>6423775</td>\n",
       "      <td>1</td>\n",
       "      <td>2.00</td>\n",
       "      <td>364</td>\n",
       "      <td>-0.79</td>\n",
       "      <td>1642</td>\n",
       "      <td>1</td>\n",
       "      <td>0.0</td>\n",
       "      <td>0.0</td>\n",
       "    </tr>\n",
       "  </tbody>\n",
       "</table>\n",
       "</div>"
      ],
      "text/plain": [
       "   user_id    basket_id  day  item_id  quantity  sales_value  store_id  \\\n",
       "0     2375  26984851472    1  1004906         1         1.39       364   \n",
       "1     2375  26984851472    1  1033142         1         0.82       364   \n",
       "2     2375  26984851472    1  1036325         1         0.99       364   \n",
       "3     2375  26984851472    1  1082185         1         1.21       364   \n",
       "4     2375  26984851472    1  8160430         1         1.50       364   \n",
       "5     2375  26984851516    1   826249         2         1.98       364   \n",
       "6     2375  26984851516    1  1043142         1         1.57       364   \n",
       "7     2375  26984851516    1  1085983         1         2.99       364   \n",
       "8     2375  26984851516    1  1102651         1         1.89       364   \n",
       "9     2375  26984851516    1  6423775         1         2.00       364   \n",
       "\n",
       "   retail_disc  trans_time  week_no  coupon_disc  coupon_match_disc  \n",
       "0        -0.60        1631        1          0.0                0.0  \n",
       "1         0.00        1631        1          0.0                0.0  \n",
       "2        -0.30        1631        1          0.0                0.0  \n",
       "3         0.00        1631        1          0.0                0.0  \n",
       "4        -0.39        1631        1          0.0                0.0  \n",
       "5        -0.60        1642        1          0.0                0.0  \n",
       "6        -0.68        1642        1          0.0                0.0  \n",
       "7        -0.40        1642        1          0.0                0.0  \n",
       "8         0.00        1642        1          0.0                0.0  \n",
       "9        -0.79        1642        1          0.0                0.0  "
      ]
     },
     "execution_count": 3,
     "metadata": {},
     "output_type": "execute_result"
    }
   ],
   "source": [
    "data = pd.read_csv('../les_2/retail_train.csv')\n",
    "\n",
    "test_size_weeks = 3\n",
    "\n",
    "data_train = data[data['week_no'] < data['week_no'].max() - test_size_weeks]\n",
    "data_test = data[data['week_no'] >= data['week_no'].max() - test_size_weeks]\n",
    "\n",
    "data_train.head(10)"
   ]
  },
  {
   "cell_type": "code",
   "execution_count": 4,
   "metadata": {},
   "outputs": [
    {
     "data": {
      "text/html": [
       "<div>\n",
       "<style scoped>\n",
       "    .dataframe tbody tr th:only-of-type {\n",
       "        vertical-align: middle;\n",
       "    }\n",
       "\n",
       "    .dataframe tbody tr th {\n",
       "        vertical-align: top;\n",
       "    }\n",
       "\n",
       "    .dataframe thead th {\n",
       "        text-align: right;\n",
       "    }\n",
       "</style>\n",
       "<table border=\"1\" class=\"dataframe\">\n",
       "  <thead>\n",
       "    <tr style=\"text-align: right;\">\n",
       "      <th></th>\n",
       "      <th>item_id</th>\n",
       "      <th>manufacturer</th>\n",
       "      <th>department</th>\n",
       "      <th>brand</th>\n",
       "      <th>commodity_desc</th>\n",
       "      <th>sub_commodity_desc</th>\n",
       "      <th>curr_size_of_product</th>\n",
       "    </tr>\n",
       "  </thead>\n",
       "  <tbody>\n",
       "    <tr>\n",
       "      <th>0</th>\n",
       "      <td>25671</td>\n",
       "      <td>2</td>\n",
       "      <td>GROCERY</td>\n",
       "      <td>National</td>\n",
       "      <td>FRZN ICE</td>\n",
       "      <td>ICE - CRUSHED/CUBED</td>\n",
       "      <td>22 LB</td>\n",
       "    </tr>\n",
       "    <tr>\n",
       "      <th>1</th>\n",
       "      <td>26081</td>\n",
       "      <td>2</td>\n",
       "      <td>MISC. TRANS.</td>\n",
       "      <td>National</td>\n",
       "      <td>NO COMMODITY DESCRIPTION</td>\n",
       "      <td>NO SUBCOMMODITY DESCRIPTION</td>\n",
       "      <td></td>\n",
       "    </tr>\n",
       "  </tbody>\n",
       "</table>\n",
       "</div>"
      ],
      "text/plain": [
       "   item_id  manufacturer    department     brand            commodity_desc  \\\n",
       "0    25671             2       GROCERY  National                  FRZN ICE   \n",
       "1    26081             2  MISC. TRANS.  National  NO COMMODITY DESCRIPTION   \n",
       "\n",
       "            sub_commodity_desc curr_size_of_product  \n",
       "0          ICE - CRUSHED/CUBED                22 LB  \n",
       "1  NO SUBCOMMODITY DESCRIPTION                       "
      ]
     },
     "execution_count": 4,
     "metadata": {},
     "output_type": "execute_result"
    }
   ],
   "source": [
    "item_features = pd.read_csv('../les_2/product.csv')\n",
    "item_features.columns = [col.lower() for col in item_features.columns]\n",
    "item_features.rename(columns={'product_id': 'item_id'}, inplace=True)\n",
    "\n",
    "item_features.head(2)"
   ]
  },
  {
   "cell_type": "code",
   "execution_count": 5,
   "metadata": {},
   "outputs": [
    {
     "data": {
      "text/plain": [
       "array(['GROCERY', 'MISC. TRANS.', 'PASTRY', 'DRUG GM', 'MEAT-PCKGD',\n",
       "       'SEAFOOD-PCKGD', 'PRODUCE', 'NUTRITION', 'DELI', 'COSMETICS',\n",
       "       'MEAT', 'FLORAL', 'TRAVEL & LEISUR', 'SEAFOOD', 'MISC SALES TRAN',\n",
       "       'SALAD BAR', 'KIOSK-GAS', 'ELECT &PLUMBING', 'GRO BAKERY',\n",
       "       'GM MERCH EXP', 'FROZEN GROCERY', 'COUP/STR & MFG', 'SPIRITS',\n",
       "       'GARDEN CENTER', 'TOYS', 'CHARITABLE CONT', 'RESTAURANT', 'RX',\n",
       "       'PROD-WHS SALES', 'MEAT-WHSE', 'DAIRY DELI', 'CHEF SHOPPE', 'HBC',\n",
       "       'DELI/SNACK BAR', 'PORK', 'AUTOMOTIVE', 'VIDEO RENTAL', ' ',\n",
       "       'CNTRL/STORE SUP', 'HOUSEWARES', 'POSTAL CENTER', 'PHOTO', 'VIDEO',\n",
       "       'PHARMACY SUPPLY'], dtype=object)"
      ]
     },
     "execution_count": 5,
     "metadata": {},
     "output_type": "execute_result"
    }
   ],
   "source": [
    "item_features.department.unique()"
   ]
  },
  {
   "cell_type": "code",
   "execution_count": 6,
   "metadata": {},
   "outputs": [
    {
     "data": {
      "text/html": [
       "<div>\n",
       "<style scoped>\n",
       "    .dataframe tbody tr th:only-of-type {\n",
       "        vertical-align: middle;\n",
       "    }\n",
       "\n",
       "    .dataframe tbody tr th {\n",
       "        vertical-align: top;\n",
       "    }\n",
       "\n",
       "    .dataframe thead th {\n",
       "        text-align: right;\n",
       "    }\n",
       "</style>\n",
       "<table border=\"1\" class=\"dataframe\">\n",
       "  <thead>\n",
       "    <tr style=\"text-align: right;\">\n",
       "      <th></th>\n",
       "      <th>user_id</th>\n",
       "      <th>actual</th>\n",
       "    </tr>\n",
       "  </thead>\n",
       "  <tbody>\n",
       "    <tr>\n",
       "      <th>0</th>\n",
       "      <td>1</td>\n",
       "      <td>[821867, 834484, 856942, 865456, 889248, 90795...</td>\n",
       "    </tr>\n",
       "    <tr>\n",
       "      <th>1</th>\n",
       "      <td>3</td>\n",
       "      <td>[835476, 851057, 872021, 878302, 879948, 90963...</td>\n",
       "    </tr>\n",
       "  </tbody>\n",
       "</table>\n",
       "</div>"
      ],
      "text/plain": [
       "   user_id                                             actual\n",
       "0        1  [821867, 834484, 856942, 865456, 889248, 90795...\n",
       "1        3  [835476, 851057, 872021, 878302, 879948, 90963..."
      ]
     },
     "execution_count": 6,
     "metadata": {},
     "output_type": "execute_result"
    }
   ],
   "source": [
    "result = data_test.groupby('user_id')['item_id'].unique().reset_index()\n",
    "result.columns=['user_id', 'actual']\n",
    "result.head(2)"
   ]
  },
  {
   "cell_type": "code",
   "execution_count": 7,
   "metadata": {},
   "outputs": [],
   "source": [
    "popularity = data_train.groupby('item_id')['quantity'].sum().reset_index()\n",
    "popularity.rename(columns={'quantity': 'n_sold'}, inplace=True)\n",
    "\n",
    "top_5000 = popularity.sort_values('n_sold', ascending=False).head(5000).item_id.tolist()"
   ]
  },
  {
   "cell_type": "markdown",
   "metadata": {},
   "source": [
    "# ДЗ\n",
    "\n",
    "1) Попытаться ответить на вопросы/выдвинуть гипотезы\n",
    "\n",
    "2) Доделать прошлые домашния задания\n",
    "\n",
    "3) Прочитать статьи BM25/MatrixFactorization\n",
    "\n",
    "## Практика:\n",
    "\n",
    "4) Поэкспериментировать с ALS (grid-search)"
   ]
  },
  {
   "cell_type": "markdown",
   "metadata": {},
   "source": [
    "# Links\n",
    "\n",
    "BM25\n",
    "\n",
    "https://en.wikipedia.org/wiki/Okapi_BM25#:~:text=BM25%20is%20a%20bag%2Dof,slightly%20different%20components%20and%20parameters.\n",
    "\n",
    "\n",
    "Matrix factorization (ALS, SVD)\n",
    "https://datasciencemadesimpler.wordpress.com/tag/alternating-least-squares/"
   ]
  },
  {
   "cell_type": "markdown",
   "metadata": {},
   "source": [
    "# ALS (grid-search)"
   ]
  },
  {
   "cell_type": "code",
   "execution_count": 17,
   "metadata": {},
   "outputs": [],
   "source": [
    "import itertools"
   ]
  },
  {
   "cell_type": "code",
   "execution_count": 9,
   "metadata": {},
   "outputs": [
    {
     "name": "stderr",
     "output_type": "stream",
     "text": [
      "C:\\ProgramData\\Anaconda3\\lib\\site-packages\\pandas\\core\\indexing.py:966: SettingWithCopyWarning: \n",
      "A value is trying to be set on a copy of a slice from a DataFrame.\n",
      "Try using .loc[row_indexer,col_indexer] = value instead\n",
      "\n",
      "See the caveats in the documentation: https://pandas.pydata.org/pandas-docs/stable/user_guide/indexing.html#returning-a-view-versus-a-copy\n",
      "  self.obj[item] = s\n"
     ]
    },
    {
     "data": {
      "text/html": [
       "<div>\n",
       "<style scoped>\n",
       "    .dataframe tbody tr th:only-of-type {\n",
       "        vertical-align: middle;\n",
       "    }\n",
       "\n",
       "    .dataframe tbody tr th {\n",
       "        vertical-align: top;\n",
       "    }\n",
       "\n",
       "    .dataframe thead th {\n",
       "        text-align: right;\n",
       "    }\n",
       "</style>\n",
       "<table border=\"1\" class=\"dataframe\">\n",
       "  <thead>\n",
       "    <tr style=\"text-align: right;\">\n",
       "      <th>item_id</th>\n",
       "      <th>202291</th>\n",
       "      <th>397896</th>\n",
       "      <th>420647</th>\n",
       "      <th>480014</th>\n",
       "      <th>545926</th>\n",
       "      <th>707683</th>\n",
       "      <th>731106</th>\n",
       "      <th>818980</th>\n",
       "      <th>819063</th>\n",
       "      <th>819227</th>\n",
       "      <th>...</th>\n",
       "      <th>15778533</th>\n",
       "      <th>15831255</th>\n",
       "      <th>15926712</th>\n",
       "      <th>15926775</th>\n",
       "      <th>15926844</th>\n",
       "      <th>15926886</th>\n",
       "      <th>15927403</th>\n",
       "      <th>15927661</th>\n",
       "      <th>15927850</th>\n",
       "      <th>16809471</th>\n",
       "    </tr>\n",
       "    <tr>\n",
       "      <th>user_id</th>\n",
       "      <th></th>\n",
       "      <th></th>\n",
       "      <th></th>\n",
       "      <th></th>\n",
       "      <th></th>\n",
       "      <th></th>\n",
       "      <th></th>\n",
       "      <th></th>\n",
       "      <th></th>\n",
       "      <th></th>\n",
       "      <th></th>\n",
       "      <th></th>\n",
       "      <th></th>\n",
       "      <th></th>\n",
       "      <th></th>\n",
       "      <th></th>\n",
       "      <th></th>\n",
       "      <th></th>\n",
       "      <th></th>\n",
       "      <th></th>\n",
       "      <th></th>\n",
       "    </tr>\n",
       "  </thead>\n",
       "  <tbody>\n",
       "    <tr>\n",
       "      <th>1</th>\n",
       "      <td>0.0</td>\n",
       "      <td>0.0</td>\n",
       "      <td>0.0</td>\n",
       "      <td>0.0</td>\n",
       "      <td>0.0</td>\n",
       "      <td>0.0</td>\n",
       "      <td>0.0</td>\n",
       "      <td>0.0</td>\n",
       "      <td>0.0</td>\n",
       "      <td>0.0</td>\n",
       "      <td>...</td>\n",
       "      <td>0.0</td>\n",
       "      <td>0.0</td>\n",
       "      <td>0.0</td>\n",
       "      <td>0.0</td>\n",
       "      <td>1.0</td>\n",
       "      <td>0.0</td>\n",
       "      <td>0.0</td>\n",
       "      <td>0.0</td>\n",
       "      <td>0.0</td>\n",
       "      <td>0.0</td>\n",
       "    </tr>\n",
       "    <tr>\n",
       "      <th>2</th>\n",
       "      <td>0.0</td>\n",
       "      <td>0.0</td>\n",
       "      <td>0.0</td>\n",
       "      <td>0.0</td>\n",
       "      <td>0.0</td>\n",
       "      <td>0.0</td>\n",
       "      <td>0.0</td>\n",
       "      <td>0.0</td>\n",
       "      <td>0.0</td>\n",
       "      <td>0.0</td>\n",
       "      <td>...</td>\n",
       "      <td>0.0</td>\n",
       "      <td>0.0</td>\n",
       "      <td>0.0</td>\n",
       "      <td>0.0</td>\n",
       "      <td>0.0</td>\n",
       "      <td>0.0</td>\n",
       "      <td>0.0</td>\n",
       "      <td>0.0</td>\n",
       "      <td>0.0</td>\n",
       "      <td>0.0</td>\n",
       "    </tr>\n",
       "    <tr>\n",
       "      <th>3</th>\n",
       "      <td>0.0</td>\n",
       "      <td>0.0</td>\n",
       "      <td>0.0</td>\n",
       "      <td>0.0</td>\n",
       "      <td>0.0</td>\n",
       "      <td>0.0</td>\n",
       "      <td>0.0</td>\n",
       "      <td>0.0</td>\n",
       "      <td>0.0</td>\n",
       "      <td>0.0</td>\n",
       "      <td>...</td>\n",
       "      <td>0.0</td>\n",
       "      <td>0.0</td>\n",
       "      <td>0.0</td>\n",
       "      <td>0.0</td>\n",
       "      <td>0.0</td>\n",
       "      <td>0.0</td>\n",
       "      <td>0.0</td>\n",
       "      <td>0.0</td>\n",
       "      <td>0.0</td>\n",
       "      <td>0.0</td>\n",
       "    </tr>\n",
       "  </tbody>\n",
       "</table>\n",
       "<p>3 rows × 5001 columns</p>\n",
       "</div>"
      ],
      "text/plain": [
       "item_id  202291    397896    420647    480014    545926    707683    731106    \\\n",
       "user_id                                                                         \n",
       "1             0.0       0.0       0.0       0.0       0.0       0.0       0.0   \n",
       "2             0.0       0.0       0.0       0.0       0.0       0.0       0.0   \n",
       "3             0.0       0.0       0.0       0.0       0.0       0.0       0.0   \n",
       "\n",
       "item_id  818980    819063    819227    ...  15778533  15831255  15926712  \\\n",
       "user_id                                ...                                 \n",
       "1             0.0       0.0       0.0  ...       0.0       0.0       0.0   \n",
       "2             0.0       0.0       0.0  ...       0.0       0.0       0.0   \n",
       "3             0.0       0.0       0.0  ...       0.0       0.0       0.0   \n",
       "\n",
       "item_id  15926775  15926844  15926886  15927403  15927661  15927850  16809471  \n",
       "user_id                                                                        \n",
       "1             0.0       1.0       0.0       0.0       0.0       0.0       0.0  \n",
       "2             0.0       0.0       0.0       0.0       0.0       0.0       0.0  \n",
       "3             0.0       0.0       0.0       0.0       0.0       0.0       0.0  \n",
       "\n",
       "[3 rows x 5001 columns]"
      ]
     },
     "execution_count": 9,
     "metadata": {},
     "output_type": "execute_result"
    }
   ],
   "source": [
    "# Заведем фиктивный item_id\n",
    "\n",
    "data_train.loc[~data_train['item_id'].isin(top_5000), 'item_id'] = 999999\n",
    "\n",
    "user_item_matrix = pd.pivot_table(data_train, \n",
    "                                  index='user_id', columns='item_id', \n",
    "                                  values='quantity', # Можно пробоват ьдругие варианты\n",
    "                                  aggfunc='count', \n",
    "                                  fill_value=0\n",
    "                                 )\n",
    "\n",
    "user_item_matrix = user_item_matrix.astype(float) # необходимый тип матрицы для implicit\n",
    "\n",
    "# переведем в формат saprse matrix\n",
    "sparse_user_item = csr_matrix(user_item_matrix)\n",
    "\n",
    "user_item_matrix.head(3)"
   ]
  },
  {
   "cell_type": "code",
   "execution_count": 10,
   "metadata": {},
   "outputs": [],
   "source": [
    "userids = user_item_matrix.index.values\n",
    "itemids = user_item_matrix.columns.values\n",
    "\n",
    "matrix_userids = np.arange(len(userids))\n",
    "matrix_itemids = np.arange(len(itemids))\n",
    "\n",
    "id_to_itemid = dict(zip(matrix_itemids, itemids))\n",
    "id_to_userid = dict(zip(matrix_userids, userids))\n",
    "\n",
    "itemid_to_id = dict(zip(itemids, matrix_itemids))\n",
    "userid_to_id = dict(zip(userids, matrix_userids))"
   ]
  },
  {
   "cell_type": "code",
   "execution_count": 11,
   "metadata": {},
   "outputs": [],
   "source": [
    "def get_recommendations(user, model, N=5):\n",
    "    res = [id_to_itemid[rec[0]] for rec in \n",
    "                    model.recommend(userid=userid_to_id[user], \n",
    "                                    user_items=sparse_user_item,   # на вход user-item matrix\n",
    "                                    N=N, \n",
    "                                    filter_already_liked_items=False, \n",
    "                                    filter_items=None, \n",
    "                                    recalculate_user=True)]\n",
    "    return res"
   ]
  },
  {
   "cell_type": "code",
   "execution_count": 12,
   "metadata": {},
   "outputs": [],
   "source": [
    "def learning_als(user_item_matrix, params, result):\n",
    "    model = AlternatingLeastSquares(**params)\n",
    "    print(params)\n",
    "    model.fit(csr_matrix(user_item_matrix).T,  # На вход item-user matrix\n",
    "              show_progress=True)\n",
    "    result['temp_als'] = result['user_id'].apply(lambda x: get_recommendations(x, model=model, N=5))\n",
    "    pers_at_k = result.apply(lambda row: precision_at_k(row['temp_als'], row['actual']), axis=1).mean()\n",
    "    return pers_at_k"
   ]
  },
  {
   "cell_type": "code",
   "execution_count": 13,
   "metadata": {},
   "outputs": [],
   "source": [
    "def grid_search_ALS(user_item_matrix, param_grid, result):\n",
    "\n",
    "    curves = []\n",
    "    keys, values = zip(*param_grid.items())\n",
    "    iteration = 0\n",
    "    for v in itertools.product(*values):\n",
    "        params = dict(zip(keys, v))\n",
    "        \n",
    "        pers_at_k = learning_als(user_item_matrix, params, result)\n",
    "\n",
    "        curves.append({'params': params,\n",
    "                       'pers_at_k': pers_at_k,\n",
    "                       'iteration': iteration})\n",
    "        iteration += 1\n",
    "    return curves"
   ]
  },
  {
   "cell_type": "code",
   "execution_count": 15,
   "metadata": {},
   "outputs": [],
   "source": [
    "param_grid = {'factors': [50, 100, 150, 200],\n",
    "              'regularization': [0.001, 0.0001, 0.005, 0.01, 0.1, 1],\n",
    "              'iterations': [10, 15, 20, 25, 100],\n",
    "              'num_threads': [4],\n",
    "              'calculate_training_loss': [True]}"
   ]
  },
  {
   "cell_type": "code",
   "execution_count": 18,
   "metadata": {
    "scrolled": true
   },
   "outputs": [
    {
     "name": "stderr",
     "output_type": "stream",
     "text": [
      "WARNING:root:Intel MKL BLAS detected. Its highly recommend to set the environment variable 'export MKL_NUM_THREADS=1' to disable its internal multithreading\n"
     ]
    },
    {
     "name": "stdout",
     "output_type": "stream",
     "text": [
      "{'factors': 50, 'regularization': 0.001, 'iterations': 10, 'num_threads': 4, 'calculate_training_loss': True}\n"
     ]
    },
    {
     "data": {
      "application/vnd.jupyter.widget-view+json": {
       "model_id": "2ac3926e330a441ab7b1d0013a37a2cd",
       "version_major": 2,
       "version_minor": 0
      },
      "text/plain": [
       "HBox(children=(FloatProgress(value=0.0, max=10.0), HTML(value='')))"
      ]
     },
     "metadata": {},
     "output_type": "display_data"
    },
    {
     "name": "stdout",
     "output_type": "stream",
     "text": [
      "\n",
      "{'factors': 50, 'regularization': 0.001, 'iterations': 15, 'num_threads': 4, 'calculate_training_loss': True}\n"
     ]
    },
    {
     "data": {
      "application/vnd.jupyter.widget-view+json": {
       "model_id": "23d78d0386c74f6cadaa2a5a3c6258a5",
       "version_major": 2,
       "version_minor": 0
      },
      "text/plain": [
       "HBox(children=(FloatProgress(value=0.0, max=15.0), HTML(value='')))"
      ]
     },
     "metadata": {},
     "output_type": "display_data"
    },
    {
     "name": "stdout",
     "output_type": "stream",
     "text": [
      "\n",
      "{'factors': 50, 'regularization': 0.001, 'iterations': 20, 'num_threads': 4, 'calculate_training_loss': True}\n"
     ]
    },
    {
     "data": {
      "application/vnd.jupyter.widget-view+json": {
       "model_id": "a6cc7d38d7d24f1ba71017376a926ba7",
       "version_major": 2,
       "version_minor": 0
      },
      "text/plain": [
       "HBox(children=(FloatProgress(value=0.0, max=20.0), HTML(value='')))"
      ]
     },
     "metadata": {},
     "output_type": "display_data"
    },
    {
     "name": "stdout",
     "output_type": "stream",
     "text": [
      "\n",
      "{'factors': 50, 'regularization': 0.001, 'iterations': 25, 'num_threads': 4, 'calculate_training_loss': True}\n"
     ]
    },
    {
     "data": {
      "application/vnd.jupyter.widget-view+json": {
       "model_id": "4c055b647fe74b4b868e14a8d94474e1",
       "version_major": 2,
       "version_minor": 0
      },
      "text/plain": [
       "HBox(children=(FloatProgress(value=0.0, max=25.0), HTML(value='')))"
      ]
     },
     "metadata": {},
     "output_type": "display_data"
    },
    {
     "name": "stdout",
     "output_type": "stream",
     "text": [
      "\n",
      "{'factors': 50, 'regularization': 0.001, 'iterations': 100, 'num_threads': 4, 'calculate_training_loss': True}\n"
     ]
    },
    {
     "data": {
      "application/vnd.jupyter.widget-view+json": {
       "model_id": "c4f7f1893165477d9ecd482eea3a77e9",
       "version_major": 2,
       "version_minor": 0
      },
      "text/plain": [
       "HBox(children=(FloatProgress(value=0.0), HTML(value='')))"
      ]
     },
     "metadata": {},
     "output_type": "display_data"
    },
    {
     "name": "stdout",
     "output_type": "stream",
     "text": [
      "\n",
      "{'factors': 50, 'regularization': 0.0001, 'iterations': 10, 'num_threads': 4, 'calculate_training_loss': True}\n"
     ]
    },
    {
     "data": {
      "application/vnd.jupyter.widget-view+json": {
       "model_id": "d4637526bb0443a4bb521eba5941c435",
       "version_major": 2,
       "version_minor": 0
      },
      "text/plain": [
       "HBox(children=(FloatProgress(value=0.0, max=10.0), HTML(value='')))"
      ]
     },
     "metadata": {},
     "output_type": "display_data"
    },
    {
     "name": "stdout",
     "output_type": "stream",
     "text": [
      "\n",
      "{'factors': 50, 'regularization': 0.0001, 'iterations': 15, 'num_threads': 4, 'calculate_training_loss': True}\n"
     ]
    },
    {
     "data": {
      "application/vnd.jupyter.widget-view+json": {
       "model_id": "6ec3d0c43f464af4b464923e5086f0ea",
       "version_major": 2,
       "version_minor": 0
      },
      "text/plain": [
       "HBox(children=(FloatProgress(value=0.0, max=15.0), HTML(value='')))"
      ]
     },
     "metadata": {},
     "output_type": "display_data"
    },
    {
     "name": "stdout",
     "output_type": "stream",
     "text": [
      "\n",
      "{'factors': 50, 'regularization': 0.0001, 'iterations': 20, 'num_threads': 4, 'calculate_training_loss': True}\n"
     ]
    },
    {
     "data": {
      "application/vnd.jupyter.widget-view+json": {
       "model_id": "cc89de10064f471297392d4f16322bf7",
       "version_major": 2,
       "version_minor": 0
      },
      "text/plain": [
       "HBox(children=(FloatProgress(value=0.0, max=20.0), HTML(value='')))"
      ]
     },
     "metadata": {},
     "output_type": "display_data"
    },
    {
     "name": "stdout",
     "output_type": "stream",
     "text": [
      "\n",
      "{'factors': 50, 'regularization': 0.0001, 'iterations': 25, 'num_threads': 4, 'calculate_training_loss': True}\n"
     ]
    },
    {
     "data": {
      "application/vnd.jupyter.widget-view+json": {
       "model_id": "14d4e38ba8534136b51a2fe5c088c586",
       "version_major": 2,
       "version_minor": 0
      },
      "text/plain": [
       "HBox(children=(FloatProgress(value=0.0, max=25.0), HTML(value='')))"
      ]
     },
     "metadata": {},
     "output_type": "display_data"
    },
    {
     "name": "stdout",
     "output_type": "stream",
     "text": [
      "\n",
      "{'factors': 50, 'regularization': 0.0001, 'iterations': 100, 'num_threads': 4, 'calculate_training_loss': True}\n"
     ]
    },
    {
     "data": {
      "application/vnd.jupyter.widget-view+json": {
       "model_id": "5c2dddfccfa148ae84ef288452580563",
       "version_major": 2,
       "version_minor": 0
      },
      "text/plain": [
       "HBox(children=(FloatProgress(value=0.0), HTML(value='')))"
      ]
     },
     "metadata": {},
     "output_type": "display_data"
    },
    {
     "name": "stdout",
     "output_type": "stream",
     "text": [
      "\n",
      "{'factors': 50, 'regularization': 0.005, 'iterations': 10, 'num_threads': 4, 'calculate_training_loss': True}\n"
     ]
    },
    {
     "data": {
      "application/vnd.jupyter.widget-view+json": {
       "model_id": "33f3a5fc5a134d57a4f8f3fcd3dc5006",
       "version_major": 2,
       "version_minor": 0
      },
      "text/plain": [
       "HBox(children=(FloatProgress(value=0.0, max=10.0), HTML(value='')))"
      ]
     },
     "metadata": {},
     "output_type": "display_data"
    },
    {
     "name": "stdout",
     "output_type": "stream",
     "text": [
      "\n",
      "{'factors': 50, 'regularization': 0.005, 'iterations': 15, 'num_threads': 4, 'calculate_training_loss': True}\n"
     ]
    },
    {
     "data": {
      "application/vnd.jupyter.widget-view+json": {
       "model_id": "fac0adcc02064df7a618546296da038f",
       "version_major": 2,
       "version_minor": 0
      },
      "text/plain": [
       "HBox(children=(FloatProgress(value=0.0, max=15.0), HTML(value='')))"
      ]
     },
     "metadata": {},
     "output_type": "display_data"
    },
    {
     "name": "stdout",
     "output_type": "stream",
     "text": [
      "\n",
      "{'factors': 50, 'regularization': 0.005, 'iterations': 20, 'num_threads': 4, 'calculate_training_loss': True}\n"
     ]
    },
    {
     "data": {
      "application/vnd.jupyter.widget-view+json": {
       "model_id": "d75b4eb2a3084b1c8021ce1e9ce05e6d",
       "version_major": 2,
       "version_minor": 0
      },
      "text/plain": [
       "HBox(children=(FloatProgress(value=0.0, max=20.0), HTML(value='')))"
      ]
     },
     "metadata": {},
     "output_type": "display_data"
    },
    {
     "name": "stdout",
     "output_type": "stream",
     "text": [
      "\n",
      "{'factors': 50, 'regularization': 0.005, 'iterations': 25, 'num_threads': 4, 'calculate_training_loss': True}\n"
     ]
    },
    {
     "data": {
      "application/vnd.jupyter.widget-view+json": {
       "model_id": "3d40df8f53b04bf590a6234a84962a68",
       "version_major": 2,
       "version_minor": 0
      },
      "text/plain": [
       "HBox(children=(FloatProgress(value=0.0, max=25.0), HTML(value='')))"
      ]
     },
     "metadata": {},
     "output_type": "display_data"
    },
    {
     "name": "stdout",
     "output_type": "stream",
     "text": [
      "\n",
      "{'factors': 50, 'regularization': 0.005, 'iterations': 100, 'num_threads': 4, 'calculate_training_loss': True}\n"
     ]
    },
    {
     "data": {
      "application/vnd.jupyter.widget-view+json": {
       "model_id": "c49a981ad7e546f49f713f6a9f23b04c",
       "version_major": 2,
       "version_minor": 0
      },
      "text/plain": [
       "HBox(children=(FloatProgress(value=0.0), HTML(value='')))"
      ]
     },
     "metadata": {},
     "output_type": "display_data"
    },
    {
     "name": "stdout",
     "output_type": "stream",
     "text": [
      "\n",
      "{'factors': 50, 'regularization': 0.01, 'iterations': 10, 'num_threads': 4, 'calculate_training_loss': True}\n"
     ]
    },
    {
     "data": {
      "application/vnd.jupyter.widget-view+json": {
       "model_id": "abe891eced184b1f9ab7f2959c22d9a3",
       "version_major": 2,
       "version_minor": 0
      },
      "text/plain": [
       "HBox(children=(FloatProgress(value=0.0, max=10.0), HTML(value='')))"
      ]
     },
     "metadata": {},
     "output_type": "display_data"
    },
    {
     "name": "stdout",
     "output_type": "stream",
     "text": [
      "\n",
      "{'factors': 50, 'regularization': 0.01, 'iterations': 15, 'num_threads': 4, 'calculate_training_loss': True}\n"
     ]
    },
    {
     "data": {
      "application/vnd.jupyter.widget-view+json": {
       "model_id": "c742b8e3df5c40689568a49ba04fa5db",
       "version_major": 2,
       "version_minor": 0
      },
      "text/plain": [
       "HBox(children=(FloatProgress(value=0.0, max=15.0), HTML(value='')))"
      ]
     },
     "metadata": {},
     "output_type": "display_data"
    },
    {
     "name": "stdout",
     "output_type": "stream",
     "text": [
      "\n",
      "{'factors': 50, 'regularization': 0.01, 'iterations': 20, 'num_threads': 4, 'calculate_training_loss': True}\n"
     ]
    },
    {
     "data": {
      "application/vnd.jupyter.widget-view+json": {
       "model_id": "dc9e7e3f150c4a36850bdd70c6665681",
       "version_major": 2,
       "version_minor": 0
      },
      "text/plain": [
       "HBox(children=(FloatProgress(value=0.0, max=20.0), HTML(value='')))"
      ]
     },
     "metadata": {},
     "output_type": "display_data"
    },
    {
     "name": "stdout",
     "output_type": "stream",
     "text": [
      "\n",
      "{'factors': 50, 'regularization': 0.01, 'iterations': 25, 'num_threads': 4, 'calculate_training_loss': True}\n"
     ]
    },
    {
     "data": {
      "application/vnd.jupyter.widget-view+json": {
       "model_id": "821dfceac458426aaf6bcdec47d703fb",
       "version_major": 2,
       "version_minor": 0
      },
      "text/plain": [
       "HBox(children=(FloatProgress(value=0.0, max=25.0), HTML(value='')))"
      ]
     },
     "metadata": {},
     "output_type": "display_data"
    },
    {
     "name": "stdout",
     "output_type": "stream",
     "text": [
      "\n",
      "{'factors': 50, 'regularization': 0.01, 'iterations': 100, 'num_threads': 4, 'calculate_training_loss': True}\n"
     ]
    },
    {
     "data": {
      "application/vnd.jupyter.widget-view+json": {
       "model_id": "8cd2651ed49d4a3d936d9fcdd5696ce4",
       "version_major": 2,
       "version_minor": 0
      },
      "text/plain": [
       "HBox(children=(FloatProgress(value=0.0), HTML(value='')))"
      ]
     },
     "metadata": {},
     "output_type": "display_data"
    },
    {
     "name": "stdout",
     "output_type": "stream",
     "text": [
      "\n",
      "{'factors': 50, 'regularization': 0.1, 'iterations': 10, 'num_threads': 4, 'calculate_training_loss': True}\n"
     ]
    },
    {
     "data": {
      "application/vnd.jupyter.widget-view+json": {
       "model_id": "bc8470a0d5054b21b3b5c1c90ca97188",
       "version_major": 2,
       "version_minor": 0
      },
      "text/plain": [
       "HBox(children=(FloatProgress(value=0.0, max=10.0), HTML(value='')))"
      ]
     },
     "metadata": {},
     "output_type": "display_data"
    },
    {
     "name": "stdout",
     "output_type": "stream",
     "text": [
      "\n",
      "{'factors': 50, 'regularization': 0.1, 'iterations': 15, 'num_threads': 4, 'calculate_training_loss': True}\n"
     ]
    },
    {
     "data": {
      "application/vnd.jupyter.widget-view+json": {
       "model_id": "19bd8ee567eb41f88319652aec9023a0",
       "version_major": 2,
       "version_minor": 0
      },
      "text/plain": [
       "HBox(children=(FloatProgress(value=0.0, max=15.0), HTML(value='')))"
      ]
     },
     "metadata": {},
     "output_type": "display_data"
    },
    {
     "name": "stdout",
     "output_type": "stream",
     "text": [
      "\n",
      "{'factors': 50, 'regularization': 0.1, 'iterations': 20, 'num_threads': 4, 'calculate_training_loss': True}\n"
     ]
    },
    {
     "data": {
      "application/vnd.jupyter.widget-view+json": {
       "model_id": "ef90b74bc8724a1186243d807b4d44de",
       "version_major": 2,
       "version_minor": 0
      },
      "text/plain": [
       "HBox(children=(FloatProgress(value=0.0, max=20.0), HTML(value='')))"
      ]
     },
     "metadata": {},
     "output_type": "display_data"
    },
    {
     "name": "stdout",
     "output_type": "stream",
     "text": [
      "\n",
      "{'factors': 50, 'regularization': 0.1, 'iterations': 25, 'num_threads': 4, 'calculate_training_loss': True}\n"
     ]
    },
    {
     "data": {
      "application/vnd.jupyter.widget-view+json": {
       "model_id": "b2133f7a37c0446e8cc13a5362be3b5c",
       "version_major": 2,
       "version_minor": 0
      },
      "text/plain": [
       "HBox(children=(FloatProgress(value=0.0, max=25.0), HTML(value='')))"
      ]
     },
     "metadata": {},
     "output_type": "display_data"
    },
    {
     "name": "stdout",
     "output_type": "stream",
     "text": [
      "\n",
      "{'factors': 50, 'regularization': 0.1, 'iterations': 100, 'num_threads': 4, 'calculate_training_loss': True}\n"
     ]
    },
    {
     "data": {
      "application/vnd.jupyter.widget-view+json": {
       "model_id": "daede96665324760b818d19ef79040e7",
       "version_major": 2,
       "version_minor": 0
      },
      "text/plain": [
       "HBox(children=(FloatProgress(value=0.0), HTML(value='')))"
      ]
     },
     "metadata": {},
     "output_type": "display_data"
    },
    {
     "name": "stdout",
     "output_type": "stream",
     "text": [
      "\n",
      "{'factors': 50, 'regularization': 1, 'iterations': 10, 'num_threads': 4, 'calculate_training_loss': True}\n"
     ]
    },
    {
     "data": {
      "application/vnd.jupyter.widget-view+json": {
       "model_id": "3d6c3d45d3184a40be4ec616416d6ec3",
       "version_major": 2,
       "version_minor": 0
      },
      "text/plain": [
       "HBox(children=(FloatProgress(value=0.0, max=10.0), HTML(value='')))"
      ]
     },
     "metadata": {},
     "output_type": "display_data"
    },
    {
     "name": "stdout",
     "output_type": "stream",
     "text": [
      "\n",
      "{'factors': 50, 'regularization': 1, 'iterations': 15, 'num_threads': 4, 'calculate_training_loss': True}\n"
     ]
    },
    {
     "data": {
      "application/vnd.jupyter.widget-view+json": {
       "model_id": "bf9ebcdf0a074faa8087fb727c711736",
       "version_major": 2,
       "version_minor": 0
      },
      "text/plain": [
       "HBox(children=(FloatProgress(value=0.0, max=15.0), HTML(value='')))"
      ]
     },
     "metadata": {},
     "output_type": "display_data"
    },
    {
     "name": "stdout",
     "output_type": "stream",
     "text": [
      "\n",
      "{'factors': 50, 'regularization': 1, 'iterations': 20, 'num_threads': 4, 'calculate_training_loss': True}\n"
     ]
    },
    {
     "data": {
      "application/vnd.jupyter.widget-view+json": {
       "model_id": "42514000f0d3416fa200d38b77cef45f",
       "version_major": 2,
       "version_minor": 0
      },
      "text/plain": [
       "HBox(children=(FloatProgress(value=0.0, max=20.0), HTML(value='')))"
      ]
     },
     "metadata": {},
     "output_type": "display_data"
    },
    {
     "name": "stdout",
     "output_type": "stream",
     "text": [
      "\n",
      "{'factors': 50, 'regularization': 1, 'iterations': 25, 'num_threads': 4, 'calculate_training_loss': True}\n"
     ]
    },
    {
     "data": {
      "application/vnd.jupyter.widget-view+json": {
       "model_id": "d33f95772bc24af88be1fe125efbc75f",
       "version_major": 2,
       "version_minor": 0
      },
      "text/plain": [
       "HBox(children=(FloatProgress(value=0.0, max=25.0), HTML(value='')))"
      ]
     },
     "metadata": {},
     "output_type": "display_data"
    },
    {
     "name": "stdout",
     "output_type": "stream",
     "text": [
      "\n",
      "{'factors': 50, 'regularization': 1, 'iterations': 100, 'num_threads': 4, 'calculate_training_loss': True}\n"
     ]
    },
    {
     "data": {
      "application/vnd.jupyter.widget-view+json": {
       "model_id": "1b6627cf75aa407fa4c3b2f1c21cbd5b",
       "version_major": 2,
       "version_minor": 0
      },
      "text/plain": [
       "HBox(children=(FloatProgress(value=0.0), HTML(value='')))"
      ]
     },
     "metadata": {},
     "output_type": "display_data"
    },
    {
     "name": "stdout",
     "output_type": "stream",
     "text": [
      "\n",
      "{'factors': 100, 'regularization': 0.001, 'iterations': 10, 'num_threads': 4, 'calculate_training_loss': True}\n"
     ]
    },
    {
     "data": {
      "application/vnd.jupyter.widget-view+json": {
       "model_id": "ccf991773e37402bb0615821bd0b9baa",
       "version_major": 2,
       "version_minor": 0
      },
      "text/plain": [
       "HBox(children=(FloatProgress(value=0.0, max=10.0), HTML(value='')))"
      ]
     },
     "metadata": {},
     "output_type": "display_data"
    },
    {
     "name": "stdout",
     "output_type": "stream",
     "text": [
      "\n",
      "{'factors': 100, 'regularization': 0.001, 'iterations': 15, 'num_threads': 4, 'calculate_training_loss': True}\n"
     ]
    },
    {
     "data": {
      "application/vnd.jupyter.widget-view+json": {
       "model_id": "609e499b9c50480f81e1b305c30766fe",
       "version_major": 2,
       "version_minor": 0
      },
      "text/plain": [
       "HBox(children=(FloatProgress(value=0.0, max=15.0), HTML(value='')))"
      ]
     },
     "metadata": {},
     "output_type": "display_data"
    },
    {
     "name": "stdout",
     "output_type": "stream",
     "text": [
      "\n",
      "{'factors': 100, 'regularization': 0.001, 'iterations': 20, 'num_threads': 4, 'calculate_training_loss': True}\n"
     ]
    },
    {
     "data": {
      "application/vnd.jupyter.widget-view+json": {
       "model_id": "895a2cb14d864e45a4d939066ea3a12d",
       "version_major": 2,
       "version_minor": 0
      },
      "text/plain": [
       "HBox(children=(FloatProgress(value=0.0, max=20.0), HTML(value='')))"
      ]
     },
     "metadata": {},
     "output_type": "display_data"
    },
    {
     "name": "stdout",
     "output_type": "stream",
     "text": [
      "\n",
      "{'factors': 100, 'regularization': 0.001, 'iterations': 25, 'num_threads': 4, 'calculate_training_loss': True}\n"
     ]
    },
    {
     "data": {
      "application/vnd.jupyter.widget-view+json": {
       "model_id": "cabe79218da2488aacd66d8a8baf8776",
       "version_major": 2,
       "version_minor": 0
      },
      "text/plain": [
       "HBox(children=(FloatProgress(value=0.0, max=25.0), HTML(value='')))"
      ]
     },
     "metadata": {},
     "output_type": "display_data"
    },
    {
     "name": "stdout",
     "output_type": "stream",
     "text": [
      "\n",
      "{'factors': 100, 'regularization': 0.001, 'iterations': 100, 'num_threads': 4, 'calculate_training_loss': True}\n"
     ]
    },
    {
     "data": {
      "application/vnd.jupyter.widget-view+json": {
       "model_id": "f41a27bd00f546f18b193321c9032a9c",
       "version_major": 2,
       "version_minor": 0
      },
      "text/plain": [
       "HBox(children=(FloatProgress(value=0.0), HTML(value='')))"
      ]
     },
     "metadata": {},
     "output_type": "display_data"
    },
    {
     "name": "stdout",
     "output_type": "stream",
     "text": [
      "\n",
      "{'factors': 100, 'regularization': 0.0001, 'iterations': 10, 'num_threads': 4, 'calculate_training_loss': True}\n"
     ]
    },
    {
     "data": {
      "application/vnd.jupyter.widget-view+json": {
       "model_id": "fa6027a99d0d429e8b3dc7dcfaf6b00d",
       "version_major": 2,
       "version_minor": 0
      },
      "text/plain": [
       "HBox(children=(FloatProgress(value=0.0, max=10.0), HTML(value='')))"
      ]
     },
     "metadata": {},
     "output_type": "display_data"
    },
    {
     "name": "stdout",
     "output_type": "stream",
     "text": [
      "\n",
      "{'factors': 100, 'regularization': 0.0001, 'iterations': 15, 'num_threads': 4, 'calculate_training_loss': True}\n"
     ]
    },
    {
     "data": {
      "application/vnd.jupyter.widget-view+json": {
       "model_id": "7ae021bf0f664672ae61f5ecdc113cbb",
       "version_major": 2,
       "version_minor": 0
      },
      "text/plain": [
       "HBox(children=(FloatProgress(value=0.0, max=15.0), HTML(value='')))"
      ]
     },
     "metadata": {},
     "output_type": "display_data"
    },
    {
     "name": "stdout",
     "output_type": "stream",
     "text": [
      "\n",
      "{'factors': 100, 'regularization': 0.0001, 'iterations': 20, 'num_threads': 4, 'calculate_training_loss': True}\n"
     ]
    },
    {
     "data": {
      "application/vnd.jupyter.widget-view+json": {
       "model_id": "cce9313ce22f4f4cbae1b954dad07e18",
       "version_major": 2,
       "version_minor": 0
      },
      "text/plain": [
       "HBox(children=(FloatProgress(value=0.0, max=20.0), HTML(value='')))"
      ]
     },
     "metadata": {},
     "output_type": "display_data"
    },
    {
     "name": "stdout",
     "output_type": "stream",
     "text": [
      "\n",
      "{'factors': 100, 'regularization': 0.0001, 'iterations': 25, 'num_threads': 4, 'calculate_training_loss': True}\n"
     ]
    },
    {
     "data": {
      "application/vnd.jupyter.widget-view+json": {
       "model_id": "b47818f0784e4379b9c9635b6a7a36d5",
       "version_major": 2,
       "version_minor": 0
      },
      "text/plain": [
       "HBox(children=(FloatProgress(value=0.0, max=25.0), HTML(value='')))"
      ]
     },
     "metadata": {},
     "output_type": "display_data"
    },
    {
     "name": "stdout",
     "output_type": "stream",
     "text": [
      "\n",
      "{'factors': 100, 'regularization': 0.0001, 'iterations': 100, 'num_threads': 4, 'calculate_training_loss': True}\n"
     ]
    },
    {
     "data": {
      "application/vnd.jupyter.widget-view+json": {
       "model_id": "eb0f079fdff74852983327b09d189ffd",
       "version_major": 2,
       "version_minor": 0
      },
      "text/plain": [
       "HBox(children=(FloatProgress(value=0.0), HTML(value='')))"
      ]
     },
     "metadata": {},
     "output_type": "display_data"
    },
    {
     "name": "stdout",
     "output_type": "stream",
     "text": [
      "\n",
      "{'factors': 100, 'regularization': 0.005, 'iterations': 10, 'num_threads': 4, 'calculate_training_loss': True}\n"
     ]
    },
    {
     "data": {
      "application/vnd.jupyter.widget-view+json": {
       "model_id": "7bd4b502767b465681d07e746f59e875",
       "version_major": 2,
       "version_minor": 0
      },
      "text/plain": [
       "HBox(children=(FloatProgress(value=0.0, max=10.0), HTML(value='')))"
      ]
     },
     "metadata": {},
     "output_type": "display_data"
    },
    {
     "name": "stdout",
     "output_type": "stream",
     "text": [
      "\n",
      "{'factors': 100, 'regularization': 0.005, 'iterations': 15, 'num_threads': 4, 'calculate_training_loss': True}\n"
     ]
    },
    {
     "data": {
      "application/vnd.jupyter.widget-view+json": {
       "model_id": "a2d4749c3e974470a151f9317eee29db",
       "version_major": 2,
       "version_minor": 0
      },
      "text/plain": [
       "HBox(children=(FloatProgress(value=0.0, max=15.0), HTML(value='')))"
      ]
     },
     "metadata": {},
     "output_type": "display_data"
    },
    {
     "name": "stdout",
     "output_type": "stream",
     "text": [
      "\n",
      "{'factors': 100, 'regularization': 0.005, 'iterations': 20, 'num_threads': 4, 'calculate_training_loss': True}\n"
     ]
    },
    {
     "data": {
      "application/vnd.jupyter.widget-view+json": {
       "model_id": "a95c9637ac354666bc2b859434e625cb",
       "version_major": 2,
       "version_minor": 0
      },
      "text/plain": [
       "HBox(children=(FloatProgress(value=0.0, max=20.0), HTML(value='')))"
      ]
     },
     "metadata": {},
     "output_type": "display_data"
    },
    {
     "name": "stdout",
     "output_type": "stream",
     "text": [
      "\n",
      "{'factors': 100, 'regularization': 0.005, 'iterations': 25, 'num_threads': 4, 'calculate_training_loss': True}\n"
     ]
    },
    {
     "data": {
      "application/vnd.jupyter.widget-view+json": {
       "model_id": "4cc8507646b844c6a2ffa14c8149cafe",
       "version_major": 2,
       "version_minor": 0
      },
      "text/plain": [
       "HBox(children=(FloatProgress(value=0.0, max=25.0), HTML(value='')))"
      ]
     },
     "metadata": {},
     "output_type": "display_data"
    },
    {
     "name": "stdout",
     "output_type": "stream",
     "text": [
      "\n",
      "{'factors': 100, 'regularization': 0.005, 'iterations': 100, 'num_threads': 4, 'calculate_training_loss': True}\n"
     ]
    },
    {
     "data": {
      "application/vnd.jupyter.widget-view+json": {
       "model_id": "3162917b7e0c462993f0fdea17c3b725",
       "version_major": 2,
       "version_minor": 0
      },
      "text/plain": [
       "HBox(children=(FloatProgress(value=0.0), HTML(value='')))"
      ]
     },
     "metadata": {},
     "output_type": "display_data"
    },
    {
     "name": "stdout",
     "output_type": "stream",
     "text": [
      "\n",
      "{'factors': 100, 'regularization': 0.01, 'iterations': 10, 'num_threads': 4, 'calculate_training_loss': True}\n"
     ]
    },
    {
     "data": {
      "application/vnd.jupyter.widget-view+json": {
       "model_id": "78facb53490b4c32aa06be15145e0116",
       "version_major": 2,
       "version_minor": 0
      },
      "text/plain": [
       "HBox(children=(FloatProgress(value=0.0, max=10.0), HTML(value='')))"
      ]
     },
     "metadata": {},
     "output_type": "display_data"
    },
    {
     "name": "stdout",
     "output_type": "stream",
     "text": [
      "\n",
      "{'factors': 100, 'regularization': 0.01, 'iterations': 15, 'num_threads': 4, 'calculate_training_loss': True}\n"
     ]
    },
    {
     "data": {
      "application/vnd.jupyter.widget-view+json": {
       "model_id": "bae8eb1e5f9746d6b1f1d3e6466992af",
       "version_major": 2,
       "version_minor": 0
      },
      "text/plain": [
       "HBox(children=(FloatProgress(value=0.0, max=15.0), HTML(value='')))"
      ]
     },
     "metadata": {},
     "output_type": "display_data"
    },
    {
     "name": "stdout",
     "output_type": "stream",
     "text": [
      "\n",
      "{'factors': 100, 'regularization': 0.01, 'iterations': 20, 'num_threads': 4, 'calculate_training_loss': True}\n"
     ]
    },
    {
     "data": {
      "application/vnd.jupyter.widget-view+json": {
       "model_id": "447ea20368fd45d289ccc6492744f620",
       "version_major": 2,
       "version_minor": 0
      },
      "text/plain": [
       "HBox(children=(FloatProgress(value=0.0, max=20.0), HTML(value='')))"
      ]
     },
     "metadata": {},
     "output_type": "display_data"
    },
    {
     "name": "stdout",
     "output_type": "stream",
     "text": [
      "\n",
      "{'factors': 100, 'regularization': 0.01, 'iterations': 25, 'num_threads': 4, 'calculate_training_loss': True}\n"
     ]
    },
    {
     "data": {
      "application/vnd.jupyter.widget-view+json": {
       "model_id": "9edf4a2b2d9d429b9b86d4570fbf0ae8",
       "version_major": 2,
       "version_minor": 0
      },
      "text/plain": [
       "HBox(children=(FloatProgress(value=0.0, max=25.0), HTML(value='')))"
      ]
     },
     "metadata": {},
     "output_type": "display_data"
    },
    {
     "name": "stdout",
     "output_type": "stream",
     "text": [
      "\n",
      "{'factors': 100, 'regularization': 0.01, 'iterations': 100, 'num_threads': 4, 'calculate_training_loss': True}\n"
     ]
    },
    {
     "data": {
      "application/vnd.jupyter.widget-view+json": {
       "model_id": "b5d1e42d91e0423ba26814d804a71290",
       "version_major": 2,
       "version_minor": 0
      },
      "text/plain": [
       "HBox(children=(FloatProgress(value=0.0), HTML(value='')))"
      ]
     },
     "metadata": {},
     "output_type": "display_data"
    },
    {
     "name": "stdout",
     "output_type": "stream",
     "text": [
      "\n",
      "{'factors': 100, 'regularization': 0.1, 'iterations': 10, 'num_threads': 4, 'calculate_training_loss': True}\n"
     ]
    },
    {
     "data": {
      "application/vnd.jupyter.widget-view+json": {
       "model_id": "f5c3096709974a3aacac5775baa78f16",
       "version_major": 2,
       "version_minor": 0
      },
      "text/plain": [
       "HBox(children=(FloatProgress(value=0.0, max=10.0), HTML(value='')))"
      ]
     },
     "metadata": {},
     "output_type": "display_data"
    },
    {
     "name": "stdout",
     "output_type": "stream",
     "text": [
      "\n",
      "{'factors': 100, 'regularization': 0.1, 'iterations': 15, 'num_threads': 4, 'calculate_training_loss': True}\n"
     ]
    },
    {
     "data": {
      "application/vnd.jupyter.widget-view+json": {
       "model_id": "58d8e633b957467ca7f4cf3f02b319e0",
       "version_major": 2,
       "version_minor": 0
      },
      "text/plain": [
       "HBox(children=(FloatProgress(value=0.0, max=15.0), HTML(value='')))"
      ]
     },
     "metadata": {},
     "output_type": "display_data"
    },
    {
     "name": "stdout",
     "output_type": "stream",
     "text": [
      "\n",
      "{'factors': 100, 'regularization': 0.1, 'iterations': 20, 'num_threads': 4, 'calculate_training_loss': True}\n"
     ]
    },
    {
     "data": {
      "application/vnd.jupyter.widget-view+json": {
       "model_id": "fdde59967043434d90f46ceec95e1376",
       "version_major": 2,
       "version_minor": 0
      },
      "text/plain": [
       "HBox(children=(FloatProgress(value=0.0, max=20.0), HTML(value='')))"
      ]
     },
     "metadata": {},
     "output_type": "display_data"
    },
    {
     "name": "stdout",
     "output_type": "stream",
     "text": [
      "\n",
      "{'factors': 100, 'regularization': 0.1, 'iterations': 25, 'num_threads': 4, 'calculate_training_loss': True}\n"
     ]
    },
    {
     "data": {
      "application/vnd.jupyter.widget-view+json": {
       "model_id": "17fcd08731074eeda31768220dc7babc",
       "version_major": 2,
       "version_minor": 0
      },
      "text/plain": [
       "HBox(children=(FloatProgress(value=0.0, max=25.0), HTML(value='')))"
      ]
     },
     "metadata": {},
     "output_type": "display_data"
    },
    {
     "name": "stdout",
     "output_type": "stream",
     "text": [
      "\n",
      "{'factors': 100, 'regularization': 0.1, 'iterations': 100, 'num_threads': 4, 'calculate_training_loss': True}\n"
     ]
    },
    {
     "data": {
      "application/vnd.jupyter.widget-view+json": {
       "model_id": "c2e74f3b559744dea555a155bcc6ce5c",
       "version_major": 2,
       "version_minor": 0
      },
      "text/plain": [
       "HBox(children=(FloatProgress(value=0.0), HTML(value='')))"
      ]
     },
     "metadata": {},
     "output_type": "display_data"
    },
    {
     "name": "stdout",
     "output_type": "stream",
     "text": [
      "\n",
      "{'factors': 100, 'regularization': 1, 'iterations': 10, 'num_threads': 4, 'calculate_training_loss': True}\n"
     ]
    },
    {
     "data": {
      "application/vnd.jupyter.widget-view+json": {
       "model_id": "ccbd427ea54c43f6b4cad645a4049d31",
       "version_major": 2,
       "version_minor": 0
      },
      "text/plain": [
       "HBox(children=(FloatProgress(value=0.0, max=10.0), HTML(value='')))"
      ]
     },
     "metadata": {},
     "output_type": "display_data"
    },
    {
     "name": "stdout",
     "output_type": "stream",
     "text": [
      "\n",
      "{'factors': 100, 'regularization': 1, 'iterations': 15, 'num_threads': 4, 'calculate_training_loss': True}\n"
     ]
    },
    {
     "data": {
      "application/vnd.jupyter.widget-view+json": {
       "model_id": "eabf59fd654b43baa5d415ee09a6959e",
       "version_major": 2,
       "version_minor": 0
      },
      "text/plain": [
       "HBox(children=(FloatProgress(value=0.0, max=15.0), HTML(value='')))"
      ]
     },
     "metadata": {},
     "output_type": "display_data"
    },
    {
     "name": "stdout",
     "output_type": "stream",
     "text": [
      "\n",
      "{'factors': 100, 'regularization': 1, 'iterations': 20, 'num_threads': 4, 'calculate_training_loss': True}\n"
     ]
    },
    {
     "data": {
      "application/vnd.jupyter.widget-view+json": {
       "model_id": "270d0b9bdbc443e4a4e3d7f0b1ee2d29",
       "version_major": 2,
       "version_minor": 0
      },
      "text/plain": [
       "HBox(children=(FloatProgress(value=0.0, max=20.0), HTML(value='')))"
      ]
     },
     "metadata": {},
     "output_type": "display_data"
    },
    {
     "name": "stdout",
     "output_type": "stream",
     "text": [
      "\n",
      "{'factors': 100, 'regularization': 1, 'iterations': 25, 'num_threads': 4, 'calculate_training_loss': True}\n"
     ]
    },
    {
     "data": {
      "application/vnd.jupyter.widget-view+json": {
       "model_id": "5bdf09ff0a764fd78a76ee3e38b96912",
       "version_major": 2,
       "version_minor": 0
      },
      "text/plain": [
       "HBox(children=(FloatProgress(value=0.0, max=25.0), HTML(value='')))"
      ]
     },
     "metadata": {},
     "output_type": "display_data"
    },
    {
     "name": "stdout",
     "output_type": "stream",
     "text": [
      "\n",
      "{'factors': 100, 'regularization': 1, 'iterations': 100, 'num_threads': 4, 'calculate_training_loss': True}\n"
     ]
    },
    {
     "data": {
      "application/vnd.jupyter.widget-view+json": {
       "model_id": "dfd64cbc57624976b57e989018ab6695",
       "version_major": 2,
       "version_minor": 0
      },
      "text/plain": [
       "HBox(children=(FloatProgress(value=0.0), HTML(value='')))"
      ]
     },
     "metadata": {},
     "output_type": "display_data"
    },
    {
     "name": "stdout",
     "output_type": "stream",
     "text": [
      "\n",
      "{'factors': 150, 'regularization': 0.001, 'iterations': 10, 'num_threads': 4, 'calculate_training_loss': True}\n"
     ]
    },
    {
     "data": {
      "application/vnd.jupyter.widget-view+json": {
       "model_id": "2fc8176d6fe34654afc7341841de7269",
       "version_major": 2,
       "version_minor": 0
      },
      "text/plain": [
       "HBox(children=(FloatProgress(value=0.0, max=10.0), HTML(value='')))"
      ]
     },
     "metadata": {},
     "output_type": "display_data"
    },
    {
     "name": "stdout",
     "output_type": "stream",
     "text": [
      "\n",
      "{'factors': 150, 'regularization': 0.001, 'iterations': 15, 'num_threads': 4, 'calculate_training_loss': True}\n"
     ]
    },
    {
     "data": {
      "application/vnd.jupyter.widget-view+json": {
       "model_id": "fb007e0c9ca54508bddd0424d003073e",
       "version_major": 2,
       "version_minor": 0
      },
      "text/plain": [
       "HBox(children=(FloatProgress(value=0.0, max=15.0), HTML(value='')))"
      ]
     },
     "metadata": {},
     "output_type": "display_data"
    },
    {
     "name": "stdout",
     "output_type": "stream",
     "text": [
      "\n",
      "{'factors': 150, 'regularization': 0.001, 'iterations': 20, 'num_threads': 4, 'calculate_training_loss': True}\n"
     ]
    },
    {
     "data": {
      "application/vnd.jupyter.widget-view+json": {
       "model_id": "e13607ecc24f404fbb35ecdfd22143be",
       "version_major": 2,
       "version_minor": 0
      },
      "text/plain": [
       "HBox(children=(FloatProgress(value=0.0, max=20.0), HTML(value='')))"
      ]
     },
     "metadata": {},
     "output_type": "display_data"
    },
    {
     "name": "stdout",
     "output_type": "stream",
     "text": [
      "\n",
      "{'factors': 150, 'regularization': 0.001, 'iterations': 25, 'num_threads': 4, 'calculate_training_loss': True}\n"
     ]
    },
    {
     "data": {
      "application/vnd.jupyter.widget-view+json": {
       "model_id": "04989cb1d31441388b5c886deab41253",
       "version_major": 2,
       "version_minor": 0
      },
      "text/plain": [
       "HBox(children=(FloatProgress(value=0.0, max=25.0), HTML(value='')))"
      ]
     },
     "metadata": {},
     "output_type": "display_data"
    },
    {
     "name": "stdout",
     "output_type": "stream",
     "text": [
      "\n",
      "{'factors': 150, 'regularization': 0.001, 'iterations': 100, 'num_threads': 4, 'calculate_training_loss': True}\n"
     ]
    },
    {
     "data": {
      "application/vnd.jupyter.widget-view+json": {
       "model_id": "5857f50f3e1a46c992f826b108733126",
       "version_major": 2,
       "version_minor": 0
      },
      "text/plain": [
       "HBox(children=(FloatProgress(value=0.0), HTML(value='')))"
      ]
     },
     "metadata": {},
     "output_type": "display_data"
    },
    {
     "name": "stdout",
     "output_type": "stream",
     "text": [
      "\n",
      "{'factors': 150, 'regularization': 0.0001, 'iterations': 10, 'num_threads': 4, 'calculate_training_loss': True}\n"
     ]
    },
    {
     "data": {
      "application/vnd.jupyter.widget-view+json": {
       "model_id": "2aa96629ba4748d5adcfcdc00b39931d",
       "version_major": 2,
       "version_minor": 0
      },
      "text/plain": [
       "HBox(children=(FloatProgress(value=0.0, max=10.0), HTML(value='')))"
      ]
     },
     "metadata": {},
     "output_type": "display_data"
    },
    {
     "name": "stdout",
     "output_type": "stream",
     "text": [
      "\n",
      "{'factors': 150, 'regularization': 0.0001, 'iterations': 15, 'num_threads': 4, 'calculate_training_loss': True}\n"
     ]
    },
    {
     "data": {
      "application/vnd.jupyter.widget-view+json": {
       "model_id": "b9dc5e96259a4bfe9ef0f6e8ef6c807f",
       "version_major": 2,
       "version_minor": 0
      },
      "text/plain": [
       "HBox(children=(FloatProgress(value=0.0, max=15.0), HTML(value='')))"
      ]
     },
     "metadata": {},
     "output_type": "display_data"
    },
    {
     "name": "stdout",
     "output_type": "stream",
     "text": [
      "\n",
      "{'factors': 150, 'regularization': 0.0001, 'iterations': 20, 'num_threads': 4, 'calculate_training_loss': True}\n"
     ]
    },
    {
     "data": {
      "application/vnd.jupyter.widget-view+json": {
       "model_id": "578560cdea614a078e96258748e00fcb",
       "version_major": 2,
       "version_minor": 0
      },
      "text/plain": [
       "HBox(children=(FloatProgress(value=0.0, max=20.0), HTML(value='')))"
      ]
     },
     "metadata": {},
     "output_type": "display_data"
    },
    {
     "name": "stdout",
     "output_type": "stream",
     "text": [
      "\n",
      "{'factors': 150, 'regularization': 0.0001, 'iterations': 25, 'num_threads': 4, 'calculate_training_loss': True}\n"
     ]
    },
    {
     "data": {
      "application/vnd.jupyter.widget-view+json": {
       "model_id": "63d4357e32ee46bcbfd670dd50eb179d",
       "version_major": 2,
       "version_minor": 0
      },
      "text/plain": [
       "HBox(children=(FloatProgress(value=0.0, max=25.0), HTML(value='')))"
      ]
     },
     "metadata": {},
     "output_type": "display_data"
    },
    {
     "name": "stdout",
     "output_type": "stream",
     "text": [
      "\n",
      "{'factors': 150, 'regularization': 0.0001, 'iterations': 100, 'num_threads': 4, 'calculate_training_loss': True}\n"
     ]
    },
    {
     "data": {
      "application/vnd.jupyter.widget-view+json": {
       "model_id": "0b33d9a0e69e4f39bb3839f31692018b",
       "version_major": 2,
       "version_minor": 0
      },
      "text/plain": [
       "HBox(children=(FloatProgress(value=0.0), HTML(value='')))"
      ]
     },
     "metadata": {},
     "output_type": "display_data"
    },
    {
     "name": "stdout",
     "output_type": "stream",
     "text": [
      "\n",
      "{'factors': 150, 'regularization': 0.005, 'iterations': 10, 'num_threads': 4, 'calculate_training_loss': True}\n"
     ]
    },
    {
     "data": {
      "application/vnd.jupyter.widget-view+json": {
       "model_id": "0f59001e9e6c49288ea0749f1f7f5132",
       "version_major": 2,
       "version_minor": 0
      },
      "text/plain": [
       "HBox(children=(FloatProgress(value=0.0, max=10.0), HTML(value='')))"
      ]
     },
     "metadata": {},
     "output_type": "display_data"
    },
    {
     "name": "stdout",
     "output_type": "stream",
     "text": [
      "\n",
      "{'factors': 150, 'regularization': 0.005, 'iterations': 15, 'num_threads': 4, 'calculate_training_loss': True}\n"
     ]
    },
    {
     "data": {
      "application/vnd.jupyter.widget-view+json": {
       "model_id": "9c28723cb1f7487b9cc51e735051fd36",
       "version_major": 2,
       "version_minor": 0
      },
      "text/plain": [
       "HBox(children=(FloatProgress(value=0.0, max=15.0), HTML(value='')))"
      ]
     },
     "metadata": {},
     "output_type": "display_data"
    },
    {
     "name": "stdout",
     "output_type": "stream",
     "text": [
      "\n",
      "{'factors': 150, 'regularization': 0.005, 'iterations': 20, 'num_threads': 4, 'calculate_training_loss': True}\n"
     ]
    },
    {
     "data": {
      "application/vnd.jupyter.widget-view+json": {
       "model_id": "752ceb9a74324a89b98489b6327e28e2",
       "version_major": 2,
       "version_minor": 0
      },
      "text/plain": [
       "HBox(children=(FloatProgress(value=0.0, max=20.0), HTML(value='')))"
      ]
     },
     "metadata": {},
     "output_type": "display_data"
    },
    {
     "name": "stdout",
     "output_type": "stream",
     "text": [
      "\n",
      "{'factors': 150, 'regularization': 0.005, 'iterations': 25, 'num_threads': 4, 'calculate_training_loss': True}\n"
     ]
    },
    {
     "data": {
      "application/vnd.jupyter.widget-view+json": {
       "model_id": "e7f65568d95b403cb3db9b69c64271f9",
       "version_major": 2,
       "version_minor": 0
      },
      "text/plain": [
       "HBox(children=(FloatProgress(value=0.0, max=25.0), HTML(value='')))"
      ]
     },
     "metadata": {},
     "output_type": "display_data"
    },
    {
     "name": "stdout",
     "output_type": "stream",
     "text": [
      "\n",
      "{'factors': 150, 'regularization': 0.005, 'iterations': 100, 'num_threads': 4, 'calculate_training_loss': True}\n"
     ]
    },
    {
     "data": {
      "application/vnd.jupyter.widget-view+json": {
       "model_id": "d2c1cff8df1d41428ecb56a3b637caa4",
       "version_major": 2,
       "version_minor": 0
      },
      "text/plain": [
       "HBox(children=(FloatProgress(value=0.0), HTML(value='')))"
      ]
     },
     "metadata": {},
     "output_type": "display_data"
    },
    {
     "name": "stdout",
     "output_type": "stream",
     "text": [
      "\n",
      "{'factors': 150, 'regularization': 0.01, 'iterations': 10, 'num_threads': 4, 'calculate_training_loss': True}\n"
     ]
    },
    {
     "data": {
      "application/vnd.jupyter.widget-view+json": {
       "model_id": "52375aa35c6d45c78da3d31e77cc875d",
       "version_major": 2,
       "version_minor": 0
      },
      "text/plain": [
       "HBox(children=(FloatProgress(value=0.0, max=10.0), HTML(value='')))"
      ]
     },
     "metadata": {},
     "output_type": "display_data"
    },
    {
     "name": "stdout",
     "output_type": "stream",
     "text": [
      "\n",
      "{'factors': 150, 'regularization': 0.01, 'iterations': 15, 'num_threads': 4, 'calculate_training_loss': True}\n"
     ]
    },
    {
     "data": {
      "application/vnd.jupyter.widget-view+json": {
       "model_id": "4e3540607f1348aca717ba88f1beb068",
       "version_major": 2,
       "version_minor": 0
      },
      "text/plain": [
       "HBox(children=(FloatProgress(value=0.0, max=15.0), HTML(value='')))"
      ]
     },
     "metadata": {},
     "output_type": "display_data"
    },
    {
     "name": "stdout",
     "output_type": "stream",
     "text": [
      "\n",
      "{'factors': 150, 'regularization': 0.01, 'iterations': 20, 'num_threads': 4, 'calculate_training_loss': True}\n"
     ]
    },
    {
     "data": {
      "application/vnd.jupyter.widget-view+json": {
       "model_id": "101fd6d6639449c39bef73cdc4812807",
       "version_major": 2,
       "version_minor": 0
      },
      "text/plain": [
       "HBox(children=(FloatProgress(value=0.0, max=20.0), HTML(value='')))"
      ]
     },
     "metadata": {},
     "output_type": "display_data"
    },
    {
     "name": "stdout",
     "output_type": "stream",
     "text": [
      "\n",
      "{'factors': 150, 'regularization': 0.01, 'iterations': 25, 'num_threads': 4, 'calculate_training_loss': True}\n"
     ]
    },
    {
     "data": {
      "application/vnd.jupyter.widget-view+json": {
       "model_id": "f709efef8b2e4627955195c1f05e3314",
       "version_major": 2,
       "version_minor": 0
      },
      "text/plain": [
       "HBox(children=(FloatProgress(value=0.0, max=25.0), HTML(value='')))"
      ]
     },
     "metadata": {},
     "output_type": "display_data"
    },
    {
     "name": "stdout",
     "output_type": "stream",
     "text": [
      "\n",
      "{'factors': 150, 'regularization': 0.01, 'iterations': 100, 'num_threads': 4, 'calculate_training_loss': True}\n"
     ]
    },
    {
     "data": {
      "application/vnd.jupyter.widget-view+json": {
       "model_id": "696a1d97607a4171b37182e778357147",
       "version_major": 2,
       "version_minor": 0
      },
      "text/plain": [
       "HBox(children=(FloatProgress(value=0.0), HTML(value='')))"
      ]
     },
     "metadata": {},
     "output_type": "display_data"
    },
    {
     "name": "stdout",
     "output_type": "stream",
     "text": [
      "\n",
      "{'factors': 150, 'regularization': 0.1, 'iterations': 10, 'num_threads': 4, 'calculate_training_loss': True}\n"
     ]
    },
    {
     "data": {
      "application/vnd.jupyter.widget-view+json": {
       "model_id": "3ffffb73b209459fb73dc40b4230f189",
       "version_major": 2,
       "version_minor": 0
      },
      "text/plain": [
       "HBox(children=(FloatProgress(value=0.0, max=10.0), HTML(value='')))"
      ]
     },
     "metadata": {},
     "output_type": "display_data"
    },
    {
     "name": "stdout",
     "output_type": "stream",
     "text": [
      "\n",
      "{'factors': 150, 'regularization': 0.1, 'iterations': 15, 'num_threads': 4, 'calculate_training_loss': True}\n"
     ]
    },
    {
     "data": {
      "application/vnd.jupyter.widget-view+json": {
       "model_id": "0b0f7826425c457d870da3d27151991f",
       "version_major": 2,
       "version_minor": 0
      },
      "text/plain": [
       "HBox(children=(FloatProgress(value=0.0, max=15.0), HTML(value='')))"
      ]
     },
     "metadata": {},
     "output_type": "display_data"
    },
    {
     "name": "stdout",
     "output_type": "stream",
     "text": [
      "\n",
      "{'factors': 150, 'regularization': 0.1, 'iterations': 20, 'num_threads': 4, 'calculate_training_loss': True}\n"
     ]
    },
    {
     "data": {
      "application/vnd.jupyter.widget-view+json": {
       "model_id": "38b41b6fc7e941cc9ba49460363bcc57",
       "version_major": 2,
       "version_minor": 0
      },
      "text/plain": [
       "HBox(children=(FloatProgress(value=0.0, max=20.0), HTML(value='')))"
      ]
     },
     "metadata": {},
     "output_type": "display_data"
    },
    {
     "name": "stdout",
     "output_type": "stream",
     "text": [
      "\n",
      "{'factors': 150, 'regularization': 0.1, 'iterations': 25, 'num_threads': 4, 'calculate_training_loss': True}\n"
     ]
    },
    {
     "data": {
      "application/vnd.jupyter.widget-view+json": {
       "model_id": "b47581e7f7454aabafd7ea551a7b24fb",
       "version_major": 2,
       "version_minor": 0
      },
      "text/plain": [
       "HBox(children=(FloatProgress(value=0.0, max=25.0), HTML(value='')))"
      ]
     },
     "metadata": {},
     "output_type": "display_data"
    },
    {
     "name": "stdout",
     "output_type": "stream",
     "text": [
      "\n",
      "{'factors': 150, 'regularization': 0.1, 'iterations': 100, 'num_threads': 4, 'calculate_training_loss': True}\n"
     ]
    },
    {
     "data": {
      "application/vnd.jupyter.widget-view+json": {
       "model_id": "7554de55753f4e7cba115ce4246b11d0",
       "version_major": 2,
       "version_minor": 0
      },
      "text/plain": [
       "HBox(children=(FloatProgress(value=0.0), HTML(value='')))"
      ]
     },
     "metadata": {},
     "output_type": "display_data"
    },
    {
     "name": "stdout",
     "output_type": "stream",
     "text": [
      "\n",
      "{'factors': 150, 'regularization': 1, 'iterations': 10, 'num_threads': 4, 'calculate_training_loss': True}\n"
     ]
    },
    {
     "data": {
      "application/vnd.jupyter.widget-view+json": {
       "model_id": "ac45afc2863d4ab28c79064bb5d757ec",
       "version_major": 2,
       "version_minor": 0
      },
      "text/plain": [
       "HBox(children=(FloatProgress(value=0.0, max=10.0), HTML(value='')))"
      ]
     },
     "metadata": {},
     "output_type": "display_data"
    },
    {
     "name": "stdout",
     "output_type": "stream",
     "text": [
      "\n",
      "{'factors': 150, 'regularization': 1, 'iterations': 15, 'num_threads': 4, 'calculate_training_loss': True}\n"
     ]
    },
    {
     "data": {
      "application/vnd.jupyter.widget-view+json": {
       "model_id": "e156522880db4977b5581fc136f779f5",
       "version_major": 2,
       "version_minor": 0
      },
      "text/plain": [
       "HBox(children=(FloatProgress(value=0.0, max=15.0), HTML(value='')))"
      ]
     },
     "metadata": {},
     "output_type": "display_data"
    },
    {
     "name": "stdout",
     "output_type": "stream",
     "text": [
      "\n",
      "{'factors': 150, 'regularization': 1, 'iterations': 20, 'num_threads': 4, 'calculate_training_loss': True}\n"
     ]
    },
    {
     "data": {
      "application/vnd.jupyter.widget-view+json": {
       "model_id": "8cc39b7f20384e6196a0bf9396eee361",
       "version_major": 2,
       "version_minor": 0
      },
      "text/plain": [
       "HBox(children=(FloatProgress(value=0.0, max=20.0), HTML(value='')))"
      ]
     },
     "metadata": {},
     "output_type": "display_data"
    },
    {
     "name": "stdout",
     "output_type": "stream",
     "text": [
      "\n",
      "{'factors': 150, 'regularization': 1, 'iterations': 25, 'num_threads': 4, 'calculate_training_loss': True}\n"
     ]
    },
    {
     "data": {
      "application/vnd.jupyter.widget-view+json": {
       "model_id": "27447a14a994463688fd551bb11cfedc",
       "version_major": 2,
       "version_minor": 0
      },
      "text/plain": [
       "HBox(children=(FloatProgress(value=0.0, max=25.0), HTML(value='')))"
      ]
     },
     "metadata": {},
     "output_type": "display_data"
    },
    {
     "name": "stdout",
     "output_type": "stream",
     "text": [
      "\n",
      "{'factors': 150, 'regularization': 1, 'iterations': 100, 'num_threads': 4, 'calculate_training_loss': True}\n"
     ]
    },
    {
     "data": {
      "application/vnd.jupyter.widget-view+json": {
       "model_id": "ad87c15e57ed4547bc75dcdabf119dac",
       "version_major": 2,
       "version_minor": 0
      },
      "text/plain": [
       "HBox(children=(FloatProgress(value=0.0), HTML(value='')))"
      ]
     },
     "metadata": {},
     "output_type": "display_data"
    },
    {
     "name": "stdout",
     "output_type": "stream",
     "text": [
      "\n",
      "{'factors': 200, 'regularization': 0.001, 'iterations': 10, 'num_threads': 4, 'calculate_training_loss': True}\n"
     ]
    },
    {
     "data": {
      "application/vnd.jupyter.widget-view+json": {
       "model_id": "d01a874374f246839147e46a74b25341",
       "version_major": 2,
       "version_minor": 0
      },
      "text/plain": [
       "HBox(children=(FloatProgress(value=0.0, max=10.0), HTML(value='')))"
      ]
     },
     "metadata": {},
     "output_type": "display_data"
    },
    {
     "name": "stdout",
     "output_type": "stream",
     "text": [
      "\n",
      "{'factors': 200, 'regularization': 0.001, 'iterations': 15, 'num_threads': 4, 'calculate_training_loss': True}\n"
     ]
    },
    {
     "data": {
      "application/vnd.jupyter.widget-view+json": {
       "model_id": "12eea25264f54ced9fd74e0e70d5bf28",
       "version_major": 2,
       "version_minor": 0
      },
      "text/plain": [
       "HBox(children=(FloatProgress(value=0.0, max=15.0), HTML(value='')))"
      ]
     },
     "metadata": {},
     "output_type": "display_data"
    },
    {
     "name": "stdout",
     "output_type": "stream",
     "text": [
      "\n",
      "{'factors': 200, 'regularization': 0.001, 'iterations': 20, 'num_threads': 4, 'calculate_training_loss': True}\n"
     ]
    },
    {
     "data": {
      "application/vnd.jupyter.widget-view+json": {
       "model_id": "6619e31fdca84085b090bc7b88520fd0",
       "version_major": 2,
       "version_minor": 0
      },
      "text/plain": [
       "HBox(children=(FloatProgress(value=0.0, max=20.0), HTML(value='')))"
      ]
     },
     "metadata": {},
     "output_type": "display_data"
    },
    {
     "name": "stdout",
     "output_type": "stream",
     "text": [
      "\n",
      "{'factors': 200, 'regularization': 0.001, 'iterations': 25, 'num_threads': 4, 'calculate_training_loss': True}\n"
     ]
    },
    {
     "data": {
      "application/vnd.jupyter.widget-view+json": {
       "model_id": "4b8fc0959efe49eba1ba48069f550a96",
       "version_major": 2,
       "version_minor": 0
      },
      "text/plain": [
       "HBox(children=(FloatProgress(value=0.0, max=25.0), HTML(value='')))"
      ]
     },
     "metadata": {},
     "output_type": "display_data"
    },
    {
     "name": "stdout",
     "output_type": "stream",
     "text": [
      "\n",
      "{'factors': 200, 'regularization': 0.001, 'iterations': 100, 'num_threads': 4, 'calculate_training_loss': True}\n"
     ]
    },
    {
     "data": {
      "application/vnd.jupyter.widget-view+json": {
       "model_id": "163f0201991341ed819e038440202121",
       "version_major": 2,
       "version_minor": 0
      },
      "text/plain": [
       "HBox(children=(FloatProgress(value=0.0), HTML(value='')))"
      ]
     },
     "metadata": {},
     "output_type": "display_data"
    },
    {
     "name": "stdout",
     "output_type": "stream",
     "text": [
      "\n",
      "{'factors': 200, 'regularization': 0.0001, 'iterations': 10, 'num_threads': 4, 'calculate_training_loss': True}\n"
     ]
    },
    {
     "data": {
      "application/vnd.jupyter.widget-view+json": {
       "model_id": "c6a7bd2c434c4e48ab8610df5ac159b0",
       "version_major": 2,
       "version_minor": 0
      },
      "text/plain": [
       "HBox(children=(FloatProgress(value=0.0, max=10.0), HTML(value='')))"
      ]
     },
     "metadata": {},
     "output_type": "display_data"
    },
    {
     "name": "stdout",
     "output_type": "stream",
     "text": [
      "\n",
      "{'factors': 200, 'regularization': 0.0001, 'iterations': 15, 'num_threads': 4, 'calculate_training_loss': True}\n"
     ]
    },
    {
     "data": {
      "application/vnd.jupyter.widget-view+json": {
       "model_id": "66cfa1561f2f42a4ba8d281ba034b2a0",
       "version_major": 2,
       "version_minor": 0
      },
      "text/plain": [
       "HBox(children=(FloatProgress(value=0.0, max=15.0), HTML(value='')))"
      ]
     },
     "metadata": {},
     "output_type": "display_data"
    },
    {
     "name": "stdout",
     "output_type": "stream",
     "text": [
      "\n",
      "{'factors': 200, 'regularization': 0.0001, 'iterations': 20, 'num_threads': 4, 'calculate_training_loss': True}\n"
     ]
    },
    {
     "data": {
      "application/vnd.jupyter.widget-view+json": {
       "model_id": "646cf6303ba245f2960c00659a07a242",
       "version_major": 2,
       "version_minor": 0
      },
      "text/plain": [
       "HBox(children=(FloatProgress(value=0.0, max=20.0), HTML(value='')))"
      ]
     },
     "metadata": {},
     "output_type": "display_data"
    },
    {
     "name": "stdout",
     "output_type": "stream",
     "text": [
      "\n",
      "{'factors': 200, 'regularization': 0.0001, 'iterations': 25, 'num_threads': 4, 'calculate_training_loss': True}\n"
     ]
    },
    {
     "data": {
      "application/vnd.jupyter.widget-view+json": {
       "model_id": "ab8196bfff21444e8f702ab23d7ffb52",
       "version_major": 2,
       "version_minor": 0
      },
      "text/plain": [
       "HBox(children=(FloatProgress(value=0.0, max=25.0), HTML(value='')))"
      ]
     },
     "metadata": {},
     "output_type": "display_data"
    },
    {
     "name": "stdout",
     "output_type": "stream",
     "text": [
      "\n",
      "{'factors': 200, 'regularization': 0.0001, 'iterations': 100, 'num_threads': 4, 'calculate_training_loss': True}\n"
     ]
    },
    {
     "data": {
      "application/vnd.jupyter.widget-view+json": {
       "model_id": "16fadfb136024f81b957767b8b01adec",
       "version_major": 2,
       "version_minor": 0
      },
      "text/plain": [
       "HBox(children=(FloatProgress(value=0.0), HTML(value='')))"
      ]
     },
     "metadata": {},
     "output_type": "display_data"
    },
    {
     "name": "stdout",
     "output_type": "stream",
     "text": [
      "\n",
      "{'factors': 200, 'regularization': 0.005, 'iterations': 10, 'num_threads': 4, 'calculate_training_loss': True}\n"
     ]
    },
    {
     "data": {
      "application/vnd.jupyter.widget-view+json": {
       "model_id": "d4dcca45f9a14db18ba44b0043862c6f",
       "version_major": 2,
       "version_minor": 0
      },
      "text/plain": [
       "HBox(children=(FloatProgress(value=0.0, max=10.0), HTML(value='')))"
      ]
     },
     "metadata": {},
     "output_type": "display_data"
    },
    {
     "name": "stdout",
     "output_type": "stream",
     "text": [
      "\n",
      "{'factors': 200, 'regularization': 0.005, 'iterations': 15, 'num_threads': 4, 'calculate_training_loss': True}\n"
     ]
    },
    {
     "data": {
      "application/vnd.jupyter.widget-view+json": {
       "model_id": "9daf2cfa669d4deab0ea29bd2128faad",
       "version_major": 2,
       "version_minor": 0
      },
      "text/plain": [
       "HBox(children=(FloatProgress(value=0.0, max=15.0), HTML(value='')))"
      ]
     },
     "metadata": {},
     "output_type": "display_data"
    },
    {
     "name": "stdout",
     "output_type": "stream",
     "text": [
      "\n",
      "{'factors': 200, 'regularization': 0.005, 'iterations': 20, 'num_threads': 4, 'calculate_training_loss': True}\n"
     ]
    },
    {
     "data": {
      "application/vnd.jupyter.widget-view+json": {
       "model_id": "a0a171414e9944778bdf53e97ce1b4b5",
       "version_major": 2,
       "version_minor": 0
      },
      "text/plain": [
       "HBox(children=(FloatProgress(value=0.0, max=20.0), HTML(value='')))"
      ]
     },
     "metadata": {},
     "output_type": "display_data"
    },
    {
     "name": "stdout",
     "output_type": "stream",
     "text": [
      "\n",
      "{'factors': 200, 'regularization': 0.005, 'iterations': 25, 'num_threads': 4, 'calculate_training_loss': True}\n"
     ]
    },
    {
     "data": {
      "application/vnd.jupyter.widget-view+json": {
       "model_id": "b008b4f8ce7744999f290b7271d13dee",
       "version_major": 2,
       "version_minor": 0
      },
      "text/plain": [
       "HBox(children=(FloatProgress(value=0.0, max=25.0), HTML(value='')))"
      ]
     },
     "metadata": {},
     "output_type": "display_data"
    },
    {
     "name": "stdout",
     "output_type": "stream",
     "text": [
      "\n",
      "{'factors': 200, 'regularization': 0.005, 'iterations': 100, 'num_threads': 4, 'calculate_training_loss': True}\n"
     ]
    },
    {
     "data": {
      "application/vnd.jupyter.widget-view+json": {
       "model_id": "bfd2c2993b734a70b1b6a4eda0154165",
       "version_major": 2,
       "version_minor": 0
      },
      "text/plain": [
       "HBox(children=(FloatProgress(value=0.0), HTML(value='')))"
      ]
     },
     "metadata": {},
     "output_type": "display_data"
    },
    {
     "name": "stdout",
     "output_type": "stream",
     "text": [
      "\n",
      "{'factors': 200, 'regularization': 0.01, 'iterations': 10, 'num_threads': 4, 'calculate_training_loss': True}\n"
     ]
    },
    {
     "data": {
      "application/vnd.jupyter.widget-view+json": {
       "model_id": "7572e29706184e1aa178e10caa16c56a",
       "version_major": 2,
       "version_minor": 0
      },
      "text/plain": [
       "HBox(children=(FloatProgress(value=0.0, max=10.0), HTML(value='')))"
      ]
     },
     "metadata": {},
     "output_type": "display_data"
    },
    {
     "name": "stdout",
     "output_type": "stream",
     "text": [
      "\n",
      "{'factors': 200, 'regularization': 0.01, 'iterations': 15, 'num_threads': 4, 'calculate_training_loss': True}\n"
     ]
    },
    {
     "data": {
      "application/vnd.jupyter.widget-view+json": {
       "model_id": "e53361434f48412480385110b807d57e",
       "version_major": 2,
       "version_minor": 0
      },
      "text/plain": [
       "HBox(children=(FloatProgress(value=0.0, max=15.0), HTML(value='')))"
      ]
     },
     "metadata": {},
     "output_type": "display_data"
    },
    {
     "name": "stdout",
     "output_type": "stream",
     "text": [
      "\n",
      "{'factors': 200, 'regularization': 0.01, 'iterations': 20, 'num_threads': 4, 'calculate_training_loss': True}\n"
     ]
    },
    {
     "data": {
      "application/vnd.jupyter.widget-view+json": {
       "model_id": "49d5423a8fe141539fc71ffc15ecda0c",
       "version_major": 2,
       "version_minor": 0
      },
      "text/plain": [
       "HBox(children=(FloatProgress(value=0.0, max=20.0), HTML(value='')))"
      ]
     },
     "metadata": {},
     "output_type": "display_data"
    },
    {
     "name": "stdout",
     "output_type": "stream",
     "text": [
      "\n",
      "{'factors': 200, 'regularization': 0.01, 'iterations': 25, 'num_threads': 4, 'calculate_training_loss': True}\n"
     ]
    },
    {
     "data": {
      "application/vnd.jupyter.widget-view+json": {
       "model_id": "0ad5fd16affa4434870dc882c17bda07",
       "version_major": 2,
       "version_minor": 0
      },
      "text/plain": [
       "HBox(children=(FloatProgress(value=0.0, max=25.0), HTML(value='')))"
      ]
     },
     "metadata": {},
     "output_type": "display_data"
    },
    {
     "name": "stdout",
     "output_type": "stream",
     "text": [
      "\n",
      "{'factors': 200, 'regularization': 0.01, 'iterations': 100, 'num_threads': 4, 'calculate_training_loss': True}\n"
     ]
    },
    {
     "data": {
      "application/vnd.jupyter.widget-view+json": {
       "model_id": "17125cde033d4999ade88e6ff1453694",
       "version_major": 2,
       "version_minor": 0
      },
      "text/plain": [
       "HBox(children=(FloatProgress(value=0.0), HTML(value='')))"
      ]
     },
     "metadata": {},
     "output_type": "display_data"
    },
    {
     "name": "stdout",
     "output_type": "stream",
     "text": [
      "\n",
      "{'factors': 200, 'regularization': 0.1, 'iterations': 10, 'num_threads': 4, 'calculate_training_loss': True}\n"
     ]
    },
    {
     "data": {
      "application/vnd.jupyter.widget-view+json": {
       "model_id": "49bb083486ce47dbb55b13acf4438443",
       "version_major": 2,
       "version_minor": 0
      },
      "text/plain": [
       "HBox(children=(FloatProgress(value=0.0, max=10.0), HTML(value='')))"
      ]
     },
     "metadata": {},
     "output_type": "display_data"
    },
    {
     "name": "stdout",
     "output_type": "stream",
     "text": [
      "\n",
      "{'factors': 200, 'regularization': 0.1, 'iterations': 15, 'num_threads': 4, 'calculate_training_loss': True}\n"
     ]
    },
    {
     "data": {
      "application/vnd.jupyter.widget-view+json": {
       "model_id": "f32b47c533364bee871e409fdfbfedee",
       "version_major": 2,
       "version_minor": 0
      },
      "text/plain": [
       "HBox(children=(FloatProgress(value=0.0, max=15.0), HTML(value='')))"
      ]
     },
     "metadata": {},
     "output_type": "display_data"
    },
    {
     "name": "stdout",
     "output_type": "stream",
     "text": [
      "\n",
      "{'factors': 200, 'regularization': 0.1, 'iterations': 20, 'num_threads': 4, 'calculate_training_loss': True}\n"
     ]
    },
    {
     "data": {
      "application/vnd.jupyter.widget-view+json": {
       "model_id": "e8dfda7f731b4051b909065f10fd575a",
       "version_major": 2,
       "version_minor": 0
      },
      "text/plain": [
       "HBox(children=(FloatProgress(value=0.0, max=20.0), HTML(value='')))"
      ]
     },
     "metadata": {},
     "output_type": "display_data"
    },
    {
     "name": "stdout",
     "output_type": "stream",
     "text": [
      "\n",
      "{'factors': 200, 'regularization': 0.1, 'iterations': 25, 'num_threads': 4, 'calculate_training_loss': True}\n"
     ]
    },
    {
     "data": {
      "application/vnd.jupyter.widget-view+json": {
       "model_id": "0e37279af88c405683052395293bf4bf",
       "version_major": 2,
       "version_minor": 0
      },
      "text/plain": [
       "HBox(children=(FloatProgress(value=0.0, max=25.0), HTML(value='')))"
      ]
     },
     "metadata": {},
     "output_type": "display_data"
    },
    {
     "name": "stdout",
     "output_type": "stream",
     "text": [
      "\n",
      "{'factors': 200, 'regularization': 0.1, 'iterations': 100, 'num_threads': 4, 'calculate_training_loss': True}\n"
     ]
    },
    {
     "data": {
      "application/vnd.jupyter.widget-view+json": {
       "model_id": "e4607923867e436fbf838fcf1f7986ab",
       "version_major": 2,
       "version_minor": 0
      },
      "text/plain": [
       "HBox(children=(FloatProgress(value=0.0), HTML(value='')))"
      ]
     },
     "metadata": {},
     "output_type": "display_data"
    },
    {
     "name": "stdout",
     "output_type": "stream",
     "text": [
      "\n",
      "{'factors': 200, 'regularization': 1, 'iterations': 10, 'num_threads': 4, 'calculate_training_loss': True}\n"
     ]
    },
    {
     "data": {
      "application/vnd.jupyter.widget-view+json": {
       "model_id": "7ba187e525c64f298f231028624d7770",
       "version_major": 2,
       "version_minor": 0
      },
      "text/plain": [
       "HBox(children=(FloatProgress(value=0.0, max=10.0), HTML(value='')))"
      ]
     },
     "metadata": {},
     "output_type": "display_data"
    },
    {
     "name": "stdout",
     "output_type": "stream",
     "text": [
      "\n",
      "{'factors': 200, 'regularization': 1, 'iterations': 15, 'num_threads': 4, 'calculate_training_loss': True}\n"
     ]
    },
    {
     "data": {
      "application/vnd.jupyter.widget-view+json": {
       "model_id": "dde95c6c0a334c998b1c198367525066",
       "version_major": 2,
       "version_minor": 0
      },
      "text/plain": [
       "HBox(children=(FloatProgress(value=0.0, max=15.0), HTML(value='')))"
      ]
     },
     "metadata": {},
     "output_type": "display_data"
    },
    {
     "name": "stdout",
     "output_type": "stream",
     "text": [
      "\n",
      "{'factors': 200, 'regularization': 1, 'iterations': 20, 'num_threads': 4, 'calculate_training_loss': True}\n"
     ]
    },
    {
     "data": {
      "application/vnd.jupyter.widget-view+json": {
       "model_id": "d00dc789e16641e0886c11f67cb14390",
       "version_major": 2,
       "version_minor": 0
      },
      "text/plain": [
       "HBox(children=(FloatProgress(value=0.0, max=20.0), HTML(value='')))"
      ]
     },
     "metadata": {},
     "output_type": "display_data"
    },
    {
     "name": "stdout",
     "output_type": "stream",
     "text": [
      "\n",
      "{'factors': 200, 'regularization': 1, 'iterations': 25, 'num_threads': 4, 'calculate_training_loss': True}\n"
     ]
    },
    {
     "data": {
      "application/vnd.jupyter.widget-view+json": {
       "model_id": "694f03a6428c480a8b27d269ae3e313a",
       "version_major": 2,
       "version_minor": 0
      },
      "text/plain": [
       "HBox(children=(FloatProgress(value=0.0, max=25.0), HTML(value='')))"
      ]
     },
     "metadata": {},
     "output_type": "display_data"
    },
    {
     "name": "stdout",
     "output_type": "stream",
     "text": [
      "\n",
      "{'factors': 200, 'regularization': 1, 'iterations': 100, 'num_threads': 4, 'calculate_training_loss': True}\n"
     ]
    },
    {
     "data": {
      "application/vnd.jupyter.widget-view+json": {
       "model_id": "fed3901e1fd24d34a9243e746b278763",
       "version_major": 2,
       "version_minor": 0
      },
      "text/plain": [
       "HBox(children=(FloatProgress(value=0.0), HTML(value='')))"
      ]
     },
     "metadata": {},
     "output_type": "display_data"
    },
    {
     "name": "stdout",
     "output_type": "stream",
     "text": [
      "\n"
     ]
    }
   ],
   "source": [
    "grid_search_results = grid_search_ALS(user_item_matrix, param_grid_final, result)"
   ]
  },
  {
   "cell_type": "code",
   "execution_count": 19,
   "metadata": {},
   "outputs": [
    {
     "data": {
      "text/plain": [
       "[{'params': {'factors': 50,\n",
       "   'regularization': 0.01,\n",
       "   'iterations': 10,\n",
       "   'num_threads': 4,\n",
       "   'calculate_training_loss': True},\n",
       "  'pers_at_k': 0.17120470127325932,\n",
       "  'iteration': 15},\n",
       " {'params': {'factors': 50,\n",
       "   'regularization': 0.005,\n",
       "   'iterations': 10,\n",
       "   'num_threads': 4,\n",
       "   'calculate_training_loss': True},\n",
       "  'pers_at_k': 0.1705190989226224,\n",
       "  'iteration': 10},\n",
       " {'params': {'factors': 50,\n",
       "   'regularization': 0.1,\n",
       "   'iterations': 10,\n",
       "   'num_threads': 4,\n",
       "   'calculate_training_loss': True},\n",
       "  'pers_at_k': 0.1700293829578822,\n",
       "  'iteration': 20},\n",
       " {'params': {'factors': 100,\n",
       "   'regularization': 0.1,\n",
       "   'iterations': 10,\n",
       "   'num_threads': 4,\n",
       "   'calculate_training_loss': True},\n",
       "  'pers_at_k': 0.16993143976493402,\n",
       "  'iteration': 50},\n",
       " {'params': {'factors': 50,\n",
       "   'regularization': 1,\n",
       "   'iterations': 10,\n",
       "   'num_threads': 4,\n",
       "   'calculate_training_loss': True},\n",
       "  'pers_at_k': 0.16983349657198576,\n",
       "  'iteration': 25},\n",
       " {'params': {'factors': 50,\n",
       "   'regularization': 1,\n",
       "   'iterations': 15,\n",
       "   'num_threads': 4,\n",
       "   'calculate_training_loss': True},\n",
       "  'pers_at_k': 0.16885406464250519,\n",
       "  'iteration': 26},\n",
       " {'params': {'factors': 50,\n",
       "   'regularization': 0.1,\n",
       "   'iterations': 15,\n",
       "   'num_threads': 4,\n",
       "   'calculate_training_loss': True},\n",
       "  'pers_at_k': 0.1679725759059725,\n",
       "  'iteration': 21},\n",
       " {'params': {'factors': 50,\n",
       "   'regularization': 1,\n",
       "   'iterations': 20,\n",
       "   'num_threads': 4,\n",
       "   'calculate_training_loss': True},\n",
       "  'pers_at_k': 0.16797257590597242,\n",
       "  'iteration': 27},\n",
       " {'params': {'factors': 50,\n",
       "   'regularization': 1,\n",
       "   'iterations': 25,\n",
       "   'num_threads': 4,\n",
       "   'calculate_training_loss': True},\n",
       "  'pers_at_k': 0.1679725759059724,\n",
       "  'iteration': 28},\n",
       " {'params': {'factors': 100,\n",
       "   'regularization': 0.01,\n",
       "   'iterations': 15,\n",
       "   'num_threads': 4,\n",
       "   'calculate_training_loss': True},\n",
       "  'pers_at_k': 0.16777668952007604,\n",
       "  'iteration': 46},\n",
       " {'params': {'factors': 50,\n",
       "   'regularization': 0.001,\n",
       "   'iterations': 15,\n",
       "   'num_threads': 4,\n",
       "   'calculate_training_loss': True},\n",
       "  'pers_at_k': 0.16738491674828365,\n",
       "  'iteration': 1},\n",
       " {'params': {'factors': 50,\n",
       "   'regularization': 0.01,\n",
       "   'iterations': 15,\n",
       "   'num_threads': 4,\n",
       "   'calculate_training_loss': True},\n",
       "  'pers_at_k': 0.16709108716943935,\n",
       "  'iteration': 16},\n",
       " {'params': {'factors': 50,\n",
       "   'regularization': 0.0001,\n",
       "   'iterations': 25,\n",
       "   'num_threads': 4,\n",
       "   'calculate_training_loss': True},\n",
       "  'pers_at_k': 0.16699314397649156,\n",
       "  'iteration': 8},\n",
       " {'params': {'factors': 100,\n",
       "   'regularization': 0.1,\n",
       "   'iterations': 15,\n",
       "   'num_threads': 4,\n",
       "   'calculate_training_loss': True},\n",
       "  'pers_at_k': 0.16699314397649118,\n",
       "  'iteration': 51},\n",
       " {'params': {'factors': 50,\n",
       "   'regularization': 0.0001,\n",
       "   'iterations': 20,\n",
       "   'num_threads': 4,\n",
       "   'calculate_training_loss': True},\n",
       "  'pers_at_k': 0.1668952007835434,\n",
       "  'iteration': 7},\n",
       " {'params': {'factors': 50,\n",
       "   'regularization': 0.005,\n",
       "   'iterations': 20,\n",
       "   'num_threads': 4,\n",
       "   'calculate_training_loss': True},\n",
       "  'pers_at_k': 0.16669931439764699,\n",
       "  'iteration': 12},\n",
       " {'params': {'factors': 100,\n",
       "   'regularization': 1,\n",
       "   'iterations': 25,\n",
       "   'num_threads': 4,\n",
       "   'calculate_training_loss': True},\n",
       "  'pers_at_k': 0.16650342801175083,\n",
       "  'iteration': 58},\n",
       " {'params': {'factors': 100,\n",
       "   'regularization': 0.01,\n",
       "   'iterations': 10,\n",
       "   'num_threads': 4,\n",
       "   'calculate_training_loss': True},\n",
       "  'pers_at_k': 0.16640548481880288,\n",
       "  'iteration': 45},\n",
       " {'params': {'factors': 100,\n",
       "   'regularization': 0.1,\n",
       "   'iterations': 20,\n",
       "   'num_threads': 4,\n",
       "   'calculate_training_loss': True},\n",
       "  'pers_at_k': 0.1662095984329066,\n",
       "  'iteration': 52},\n",
       " {'params': {'factors': 50,\n",
       "   'regularization': 0.01,\n",
       "   'iterations': 20,\n",
       "   'num_threads': 4,\n",
       "   'calculate_training_loss': True},\n",
       "  'pers_at_k': 0.1660137120470107,\n",
       "  'iteration': 17},\n",
       " {'params': {'factors': 100,\n",
       "   'regularization': 1,\n",
       "   'iterations': 15,\n",
       "   'num_threads': 4,\n",
       "   'calculate_training_loss': True},\n",
       "  'pers_at_k': 0.16601371204701026,\n",
       "  'iteration': 56},\n",
       " {'params': {'factors': 100,\n",
       "   'regularization': 1,\n",
       "   'iterations': 10,\n",
       "   'num_threads': 4,\n",
       "   'calculate_training_loss': True},\n",
       "  'pers_at_k': 0.16591576885406245,\n",
       "  'iteration': 55},\n",
       " {'params': {'factors': 50,\n",
       "   'regularization': 0.005,\n",
       "   'iterations': 15,\n",
       "   'num_threads': 4,\n",
       "   'calculate_training_loss': True},\n",
       "  'pers_at_k': 0.16581782566111433,\n",
       "  'iteration': 11},\n",
       " {'params': {'factors': 50,\n",
       "   'regularization': 0.1,\n",
       "   'iterations': 100,\n",
       "   'num_threads': 4,\n",
       "   'calculate_training_loss': True},\n",
       "  'pers_at_k': 0.16581782566111425,\n",
       "  'iteration': 24},\n",
       " {'params': {'factors': 50,\n",
       "   'regularization': 0.1,\n",
       "   'iterations': 25,\n",
       "   'num_threads': 4,\n",
       "   'calculate_training_loss': True},\n",
       "  'pers_at_k': 0.16571988246816616,\n",
       "  'iteration': 23},\n",
       " {'params': {'factors': 50,\n",
       "   'regularization': 0.1,\n",
       "   'iterations': 20,\n",
       "   'num_threads': 4,\n",
       "   'calculate_training_loss': True},\n",
       "  'pers_at_k': 0.16552399608227014,\n",
       "  'iteration': 22},\n",
       " {'params': {'factors': 50,\n",
       "   'regularization': 0.0001,\n",
       "   'iterations': 15,\n",
       "   'num_threads': 4,\n",
       "   'calculate_training_loss': True},\n",
       "  'pers_at_k': 0.16552399608226984,\n",
       "  'iteration': 6},\n",
       " {'params': {'factors': 50,\n",
       "   'regularization': 0.01,\n",
       "   'iterations': 100,\n",
       "   'num_threads': 4,\n",
       "   'calculate_training_loss': True},\n",
       "  'pers_at_k': 0.16542605288932202,\n",
       "  'iteration': 19},\n",
       " {'params': {'factors': 100,\n",
       "   'regularization': 1,\n",
       "   'iterations': 20,\n",
       "   'num_threads': 4,\n",
       "   'calculate_training_loss': True},\n",
       "  'pers_at_k': 0.16542605288932188,\n",
       "  'iteration': 57},\n",
       " {'params': {'factors': 50,\n",
       "   'regularization': 0.01,\n",
       "   'iterations': 25,\n",
       "   'num_threads': 4,\n",
       "   'calculate_training_loss': True},\n",
       "  'pers_at_k': 0.16523016650342595,\n",
       "  'iteration': 18},\n",
       " {'params': {'factors': 100,\n",
       "   'regularization': 0.005,\n",
       "   'iterations': 10,\n",
       "   'num_threads': 4,\n",
       "   'calculate_training_loss': True},\n",
       "  'pers_at_k': 0.16503428011752977,\n",
       "  'iteration': 40},\n",
       " {'params': {'factors': 100,\n",
       "   'regularization': 0.005,\n",
       "   'iterations': 20,\n",
       "   'num_threads': 4,\n",
       "   'calculate_training_loss': True},\n",
       "  'pers_at_k': 0.16483839373163334,\n",
       "  'iteration': 42},\n",
       " {'params': {'factors': 100,\n",
       "   'regularization': 0.01,\n",
       "   'iterations': 20,\n",
       "   'num_threads': 4,\n",
       "   'calculate_training_loss': True},\n",
       "  'pers_at_k': 0.1646425073457373,\n",
       "  'iteration': 47},\n",
       " {'params': {'factors': 100,\n",
       "   'regularization': 0.0001,\n",
       "   'iterations': 15,\n",
       "   'num_threads': 4,\n",
       "   'calculate_training_loss': True},\n",
       "  'pers_at_k': 0.16444662095984125,\n",
       "  'iteration': 36},\n",
       " {'params': {'factors': 50,\n",
       "   'regularization': 0.005,\n",
       "   'iterations': 25,\n",
       "   'num_threads': 4,\n",
       "   'calculate_training_loss': True},\n",
       "  'pers_at_k': 0.16434867776689308,\n",
       "  'iteration': 13},\n",
       " {'params': {'factors': 50,\n",
       "   'regularization': 0.001,\n",
       "   'iterations': 20,\n",
       "   'num_threads': 4,\n",
       "   'calculate_training_loss': True},\n",
       "  'pers_at_k': 0.16415279138099698,\n",
       "  'iteration': 2},\n",
       " {'params': {'factors': 50,\n",
       "   'regularization': 0.001,\n",
       "   'iterations': 10,\n",
       "   'num_threads': 4,\n",
       "   'calculate_training_loss': True},\n",
       "  'pers_at_k': 0.1640548481880489,\n",
       "  'iteration': 0},\n",
       " {'params': {'factors': 100,\n",
       "   'regularization': 1,\n",
       "   'iterations': 100,\n",
       "   'num_threads': 4,\n",
       "   'calculate_training_loss': True},\n",
       "  'pers_at_k': 0.1636630754162563,\n",
       "  'iteration': 59},\n",
       " {'params': {'factors': 100,\n",
       "   'regularization': 0.01,\n",
       "   'iterations': 25,\n",
       "   'num_threads': 4,\n",
       "   'calculate_training_loss': True},\n",
       "  'pers_at_k': 0.16356513222330837,\n",
       "  'iteration': 48},\n",
       " {'params': {'factors': 100,\n",
       "   'regularization': 0.005,\n",
       "   'iterations': 25,\n",
       "   'num_threads': 4,\n",
       "   'calculate_training_loss': True},\n",
       "  'pers_at_k': 0.1634671890303602,\n",
       "  'iteration': 43},\n",
       " {'params': {'factors': 50,\n",
       "   'regularization': 0.0001,\n",
       "   'iterations': 10,\n",
       "   'num_threads': 4,\n",
       "   'calculate_training_loss': True},\n",
       "  'pers_at_k': 0.1630754162585679,\n",
       "  'iteration': 5},\n",
       " {'params': {'factors': 100,\n",
       "   'regularization': 0.001,\n",
       "   'iterations': 25,\n",
       "   'num_threads': 4,\n",
       "   'calculate_training_loss': True},\n",
       "  'pers_at_k': 0.1630754162585678,\n",
       "  'iteration': 33},\n",
       " {'params': {'factors': 100,\n",
       "   'regularization': 0.1,\n",
       "   'iterations': 25,\n",
       "   'num_threads': 4,\n",
       "   'calculate_training_loss': True},\n",
       "  'pers_at_k': 0.16297747306561977,\n",
       "  'iteration': 53},\n",
       " {'params': {'factors': 50,\n",
       "   'regularization': 1,\n",
       "   'iterations': 100,\n",
       "   'num_threads': 4,\n",
       "   'calculate_training_loss': True},\n",
       "  'pers_at_k': 0.16287952987267185,\n",
       "  'iteration': 29},\n",
       " {'params': {'factors': 50,\n",
       "   'regularization': 0.005,\n",
       "   'iterations': 100,\n",
       "   'num_threads': 4,\n",
       "   'calculate_training_loss': True},\n",
       "  'pers_at_k': 0.16287952987267168,\n",
       "  'iteration': 14},\n",
       " {'params': {'factors': 100,\n",
       "   'regularization': 0.0001,\n",
       "   'iterations': 10,\n",
       "   'num_threads': 4,\n",
       "   'calculate_training_loss': True},\n",
       "  'pers_at_k': 0.16258570029382746,\n",
       "  'iteration': 35},\n",
       " {'params': {'factors': 50,\n",
       "   'regularization': 0.001,\n",
       "   'iterations': 25,\n",
       "   'num_threads': 4,\n",
       "   'calculate_training_loss': True},\n",
       "  'pers_at_k': 0.16238981390793106,\n",
       "  'iteration': 3},\n",
       " {'params': {'factors': 50,\n",
       "   'regularization': 0.001,\n",
       "   'iterations': 100,\n",
       "   'num_threads': 4,\n",
       "   'calculate_training_loss': True},\n",
       "  'pers_at_k': 0.16219392752203515,\n",
       "  'iteration': 4},\n",
       " {'params': {'factors': 100,\n",
       "   'regularization': 0.001,\n",
       "   'iterations': 20,\n",
       "   'num_threads': 4,\n",
       "   'calculate_training_loss': True},\n",
       "  'pers_at_k': 0.16219392752203501,\n",
       "  'iteration': 32},\n",
       " {'params': {'factors': 50,\n",
       "   'regularization': 0.0001,\n",
       "   'iterations': 100,\n",
       "   'num_threads': 4,\n",
       "   'calculate_training_loss': True},\n",
       "  'pers_at_k': 0.16199804113613883,\n",
       "  'iteration': 9},\n",
       " {'params': {'factors': 100,\n",
       "   'regularization': 0.01,\n",
       "   'iterations': 100,\n",
       "   'num_threads': 4,\n",
       "   'calculate_training_loss': True},\n",
       "  'pers_at_k': 0.16160626836434644,\n",
       "  'iteration': 49},\n",
       " {'params': {'factors': 100,\n",
       "   'regularization': 0.001,\n",
       "   'iterations': 10,\n",
       "   'num_threads': 4,\n",
       "   'calculate_training_loss': True},\n",
       "  'pers_at_k': 0.1613124387855022,\n",
       "  'iteration': 30},\n",
       " {'params': {'factors': 100,\n",
       "   'regularization': 0.005,\n",
       "   'iterations': 100,\n",
       "   'num_threads': 4,\n",
       "   'calculate_training_loss': True},\n",
       "  'pers_at_k': 0.16111655239960596,\n",
       "  'iteration': 44},\n",
       " {'params': {'factors': 100,\n",
       "   'regularization': 0.001,\n",
       "   'iterations': 15,\n",
       "   'num_threads': 4,\n",
       "   'calculate_training_loss': True},\n",
       "  'pers_at_k': 0.16092066601371008,\n",
       "  'iteration': 31},\n",
       " {'params': {'factors': 100,\n",
       "   'regularization': 0.001,\n",
       "   'iterations': 100,\n",
       "   'num_threads': 4,\n",
       "   'calculate_training_loss': True},\n",
       "  'pers_at_k': 0.16092066601370988,\n",
       "  'iteration': 34},\n",
       " {'params': {'factors': 100,\n",
       "   'regularization': 0.0001,\n",
       "   'iterations': 100,\n",
       "   'num_threads': 4,\n",
       "   'calculate_training_loss': True},\n",
       "  'pers_at_k': 0.1607247796278138,\n",
       "  'iteration': 39},\n",
       " {'params': {'factors': 100,\n",
       "   'regularization': 0.0001,\n",
       "   'iterations': 25,\n",
       "   'num_threads': 4,\n",
       "   'calculate_training_loss': True},\n",
       "  'pers_at_k': 0.16033300685602142,\n",
       "  'iteration': 38},\n",
       " {'params': {'factors': 100,\n",
       "   'regularization': 0.1,\n",
       "   'iterations': 100,\n",
       "   'num_threads': 4,\n",
       "   'calculate_training_loss': True},\n",
       "  'pers_at_k': 0.15994123408422908,\n",
       "  'iteration': 54},\n",
       " {'params': {'factors': 100,\n",
       "   'regularization': 0.005,\n",
       "   'iterations': 15,\n",
       "   'num_threads': 4,\n",
       "   'calculate_training_loss': True},\n",
       "  'pers_at_k': 0.15964740450538478,\n",
       "  'iteration': 41},\n",
       " {'params': {'factors': 100,\n",
       "   'regularization': 0.0001,\n",
       "   'iterations': 20,\n",
       "   'num_threads': 4,\n",
       "   'calculate_training_loss': True},\n",
       "  'pers_at_k': 0.1595494613124366,\n",
       "  'iteration': 37},\n",
       " {'params': {'factors': 150,\n",
       "   'regularization': 0.1,\n",
       "   'iterations': 10,\n",
       "   'num_threads': 4,\n",
       "   'calculate_training_loss': True},\n",
       "  'pers_at_k': 0.15857002938295595,\n",
       "  'iteration': 80},\n",
       " {'params': {'factors': 150,\n",
       "   'regularization': 0.01,\n",
       "   'iterations': 10,\n",
       "   'num_threads': 4,\n",
       "   'calculate_training_loss': True},\n",
       "  'pers_at_k': 0.15592556317335743,\n",
       "  'iteration': 75},\n",
       " {'params': {'factors': 150,\n",
       "   'regularization': 0.1,\n",
       "   'iterations': 20,\n",
       "   'num_threads': 4,\n",
       "   'calculate_training_loss': True},\n",
       "  'pers_at_k': 0.1545543584720845,\n",
       "  'iteration': 82},\n",
       " {'params': {'factors': 150,\n",
       "   'regularization': 1,\n",
       "   'iterations': 20,\n",
       "   'num_threads': 4,\n",
       "   'calculate_training_loss': True},\n",
       "  'pers_at_k': 0.15416258570029232,\n",
       "  'iteration': 87},\n",
       " {'params': {'factors': 150,\n",
       "   'regularization': 1,\n",
       "   'iterations': 15,\n",
       "   'num_threads': 4,\n",
       "   'calculate_training_loss': True},\n",
       "  'pers_at_k': 0.15416258570029184,\n",
       "  'iteration': 86},\n",
       " {'params': {'factors': 150,\n",
       "   'regularization': 0.005,\n",
       "   'iterations': 15,\n",
       "   'num_threads': 4,\n",
       "   'calculate_training_loss': True},\n",
       "  'pers_at_k': 0.15367286973555164,\n",
       "  'iteration': 71},\n",
       " {'params': {'factors': 150,\n",
       "   'regularization': 0.001,\n",
       "   'iterations': 10,\n",
       "   'num_threads': 4,\n",
       "   'calculate_training_loss': True},\n",
       "  'pers_at_k': 0.15328109696375922,\n",
       "  'iteration': 60},\n",
       " {'params': {'factors': 150,\n",
       "   'regularization': 1,\n",
       "   'iterations': 10,\n",
       "   'num_threads': 4,\n",
       "   'calculate_training_loss': True},\n",
       "  'pers_at_k': 0.15308521057786292,\n",
       "  'iteration': 85},\n",
       " {'params': {'factors': 150,\n",
       "   'regularization': 0.005,\n",
       "   'iterations': 10,\n",
       "   'num_threads': 4,\n",
       "   'calculate_training_loss': True},\n",
       "  'pers_at_k': 0.15220372184133033,\n",
       "  'iteration': 70},\n",
       " {'params': {'factors': 150,\n",
       "   'regularization': 0.1,\n",
       "   'iterations': 15,\n",
       "   'num_threads': 4,\n",
       "   'calculate_training_loss': True},\n",
       "  'pers_at_k': 0.1521057786483821,\n",
       "  'iteration': 81},\n",
       " {'params': {'factors': 150,\n",
       "   'regularization': 0.1,\n",
       "   'iterations': 25,\n",
       "   'num_threads': 4,\n",
       "   'calculate_training_loss': True},\n",
       "  'pers_at_k': 0.1515181194906938,\n",
       "  'iteration': 83},\n",
       " {'params': {'factors': 150,\n",
       "   'regularization': 0.01,\n",
       "   'iterations': 15,\n",
       "   'num_threads': 4,\n",
       "   'calculate_training_loss': True},\n",
       "  'pers_at_k': 0.1512242899118494,\n",
       "  'iteration': 76},\n",
       " {'params': {'factors': 200,\n",
       "   'regularization': 0.1,\n",
       "   'iterations': 10,\n",
       "   'num_threads': 4,\n",
       "   'calculate_training_loss': True},\n",
       "  'pers_at_k': 0.15122428991184927,\n",
       "  'iteration': 110},\n",
       " {'params': {'factors': 150,\n",
       "   'regularization': 0.01,\n",
       "   'iterations': 20,\n",
       "   'num_threads': 4,\n",
       "   'calculate_training_loss': True},\n",
       "  'pers_at_k': 0.15053868756121278,\n",
       "  'iteration': 77},\n",
       " {'params': {'factors': 150,\n",
       "   'regularization': 0.0001,\n",
       "   'iterations': 10,\n",
       "   'num_threads': 4,\n",
       "   'calculate_training_loss': True},\n",
       "  'pers_at_k': 0.15044074436826466,\n",
       "  'iteration': 65},\n",
       " {'params': {'factors': 150,\n",
       "   'regularization': 0.01,\n",
       "   'iterations': 25,\n",
       "   'num_threads': 4,\n",
       "   'calculate_training_loss': True},\n",
       "  'pers_at_k': 0.14985308521057616,\n",
       "  'iteration': 78},\n",
       " {'params': {'factors': 150,\n",
       "   'regularization': 0.005,\n",
       "   'iterations': 20,\n",
       "   'num_threads': 4,\n",
       "   'calculate_training_loss': True},\n",
       "  'pers_at_k': 0.14887365328109545,\n",
       "  'iteration': 72},\n",
       " {'params': {'factors': 150,\n",
       "   'regularization': 0.005,\n",
       "   'iterations': 25,\n",
       "   'num_threads': 4,\n",
       "   'calculate_training_loss': True},\n",
       "  'pers_at_k': 0.14887365328109545,\n",
       "  'iteration': 73},\n",
       " {'params': {'factors': 150,\n",
       "   'regularization': 1,\n",
       "   'iterations': 25,\n",
       "   'num_threads': 4,\n",
       "   'calculate_training_loss': True},\n",
       "  'pers_at_k': 0.1486777668951991,\n",
       "  'iteration': 88},\n",
       " {'params': {'factors': 150,\n",
       "   'regularization': 0.0001,\n",
       "   'iterations': 25,\n",
       "   'num_threads': 4,\n",
       "   'calculate_training_loss': True},\n",
       "  'pers_at_k': 0.1478942213516143,\n",
       "  'iteration': 68},\n",
       " {'params': {'factors': 150,\n",
       "   'regularization': 0.1,\n",
       "   'iterations': 100,\n",
       "   'num_threads': 4,\n",
       "   'calculate_training_loss': True},\n",
       "  'pers_at_k': 0.14720861900097787,\n",
       "  'iteration': 84},\n",
       " {'params': {'factors': 200,\n",
       "   'regularization': 0.01,\n",
       "   'iterations': 10,\n",
       "   'num_threads': 4,\n",
       "   'calculate_training_loss': True},\n",
       "  'pers_at_k': 0.14711067580802997,\n",
       "  'iteration': 105},\n",
       " {'params': {'factors': 200,\n",
       "   'regularization': 1,\n",
       "   'iterations': 10,\n",
       "   'num_threads': 4,\n",
       "   'calculate_training_loss': True},\n",
       "  'pers_at_k': 0.1467189030362374,\n",
       "  'iteration': 115},\n",
       " {'params': {'factors': 200,\n",
       "   'regularization': 0.1,\n",
       "   'iterations': 15,\n",
       "   'num_threads': 4,\n",
       "   'calculate_training_loss': True},\n",
       "  'pers_at_k': 0.14622918707149704,\n",
       "  'iteration': 111},\n",
       " {'params': {'factors': 150,\n",
       "   'regularization': 0.001,\n",
       "   'iterations': 25,\n",
       "   'num_threads': 4,\n",
       "   'calculate_training_loss': True},\n",
       "  'pers_at_k': 0.14603330068560091,\n",
       "  'iteration': 63},\n",
       " {'params': {'factors': 150,\n",
       "   'regularization': 0.005,\n",
       "   'iterations': 100,\n",
       "   'num_threads': 4,\n",
       "   'calculate_training_loss': True},\n",
       "  'pers_at_k': 0.14593535749265268,\n",
       "  'iteration': 74},\n",
       " {'params': {'factors': 150,\n",
       "   'regularization': 0.01,\n",
       "   'iterations': 100,\n",
       "   'num_threads': 4,\n",
       "   'calculate_training_loss': True},\n",
       "  'pers_at_k': 0.14554358472086032,\n",
       "  'iteration': 79},\n",
       " {'params': {'factors': 150,\n",
       "   'regularization': 0.0001,\n",
       "   'iterations': 100,\n",
       "   'num_threads': 4,\n",
       "   'calculate_training_loss': True},\n",
       "  'pers_at_k': 0.14554358472086024,\n",
       "  'iteration': 69},\n",
       " {'params': {'factors': 150,\n",
       "   'regularization': 1,\n",
       "   'iterations': 100,\n",
       "   'num_threads': 4,\n",
       "   'calculate_training_loss': True},\n",
       "  'pers_at_k': 0.14534769833496416,\n",
       "  'iteration': 89},\n",
       " {'params': {'factors': 200,\n",
       "   'regularization': 1,\n",
       "   'iterations': 15,\n",
       "   'num_threads': 4,\n",
       "   'calculate_training_loss': True},\n",
       "  'pers_at_k': 0.14524975514201607,\n",
       "  'iteration': 116},\n",
       " {'params': {'factors': 150,\n",
       "   'regularization': 0.001,\n",
       "   'iterations': 15,\n",
       "   'num_threads': 4,\n",
       "   'calculate_training_loss': True},\n",
       "  'pers_at_k': 0.14515181194906784,\n",
       "  'iteration': 61},\n",
       " {'params': {'factors': 150,\n",
       "   'regularization': 0.001,\n",
       "   'iterations': 20,\n",
       "   'num_threads': 4,\n",
       "   'calculate_training_loss': True},\n",
       "  'pers_at_k': 0.14495592556317188,\n",
       "  'iteration': 62},\n",
       " {'params': {'factors': 150,\n",
       "   'regularization': 0.0001,\n",
       "   'iterations': 15,\n",
       "   'num_threads': 4,\n",
       "   'calculate_training_loss': True},\n",
       "  'pers_at_k': 0.14387855044074288,\n",
       "  'iteration': 66},\n",
       " {'params': {'factors': 150,\n",
       "   'regularization': 0.001,\n",
       "   'iterations': 100,\n",
       "   'num_threads': 4,\n",
       "   'calculate_training_loss': True},\n",
       "  'pers_at_k': 0.14358472086189855,\n",
       "  'iteration': 64},\n",
       " {'params': {'factors': 200,\n",
       "   'regularization': 0.005,\n",
       "   'iterations': 10,\n",
       "   'num_threads': 4,\n",
       "   'calculate_training_loss': True},\n",
       "  'pers_at_k': 0.1425073457394696,\n",
       "  'iteration': 100},\n",
       " {'params': {'factors': 150,\n",
       "   'regularization': 0.0001,\n",
       "   'iterations': 20,\n",
       "   'num_threads': 4,\n",
       "   'calculate_training_loss': True},\n",
       "  'pers_at_k': 0.14133202742409237,\n",
       "  'iteration': 67},\n",
       " {'params': {'factors': 200,\n",
       "   'regularization': 0.0001,\n",
       "   'iterations': 10,\n",
       "   'num_threads': 4,\n",
       "   'calculate_training_loss': True},\n",
       "  'pers_at_k': 0.14074436826640402,\n",
       "  'iteration': 95},\n",
       " {'params': {'factors': 200,\n",
       "   'regularization': 1,\n",
       "   'iterations': 20,\n",
       "   'num_threads': 4,\n",
       "   'calculate_training_loss': True},\n",
       "  'pers_at_k': 0.13868756121449408,\n",
       "  'iteration': 117},\n",
       " {'params': {'factors': 200,\n",
       "   'regularization': 0.005,\n",
       "   'iterations': 15,\n",
       "   'num_threads': 4,\n",
       "   'calculate_training_loss': True},\n",
       "  'pers_at_k': 0.13721841332027282,\n",
       "  'iteration': 101},\n",
       " {'params': {'factors': 200,\n",
       "   'regularization': 0.1,\n",
       "   'iterations': 20,\n",
       "   'num_threads': 4,\n",
       "   'calculate_training_loss': True},\n",
       "  'pers_at_k': 0.1361410381978439,\n",
       "  'iteration': 112},\n",
       " {'params': {'factors': 200,\n",
       "   'regularization': 0.01,\n",
       "   'iterations': 15,\n",
       "   'num_threads': 4,\n",
       "   'calculate_training_loss': True},\n",
       "  'pers_at_k': 0.13614103819784373,\n",
       "  'iteration': 106},\n",
       " {'params': {'factors': 200,\n",
       "   'regularization': 0.005,\n",
       "   'iterations': 25,\n",
       "   'num_threads': 4,\n",
       "   'calculate_training_loss': True},\n",
       "  'pers_at_k': 0.1360430950048959,\n",
       "  'iteration': 103},\n",
       " {'params': {'factors': 200,\n",
       "   'regularization': 0.001,\n",
       "   'iterations': 10,\n",
       "   'num_threads': 4,\n",
       "   'calculate_training_loss': True},\n",
       "  'pers_at_k': 0.1360430950048958,\n",
       "  'iteration': 90},\n",
       " {'params': {'factors': 200,\n",
       "   'regularization': 0.001,\n",
       "   'iterations': 15,\n",
       "   'num_threads': 4,\n",
       "   'calculate_training_loss': True},\n",
       "  'pers_at_k': 0.13584720861899977,\n",
       "  'iteration': 91},\n",
       " {'params': {'factors': 200,\n",
       "   'regularization': 0.01,\n",
       "   'iterations': 25,\n",
       "   'num_threads': 4,\n",
       "   'calculate_training_loss': True},\n",
       "  'pers_at_k': 0.13545543584720732,\n",
       "  'iteration': 108},\n",
       " {'params': {'factors': 200,\n",
       "   'regularization': 0.01,\n",
       "   'iterations': 20,\n",
       "   'num_threads': 4,\n",
       "   'calculate_training_loss': True},\n",
       "  'pers_at_k': 0.13506366307541492,\n",
       "  'iteration': 107},\n",
       " {'params': {'factors': 200,\n",
       "   'regularization': 0.0001,\n",
       "   'iterations': 20,\n",
       "   'num_threads': 4,\n",
       "   'calculate_training_loss': True},\n",
       "  'pers_at_k': 0.13467189030362253,\n",
       "  'iteration': 97},\n",
       " {'params': {'factors': 200,\n",
       "   'regularization': 1,\n",
       "   'iterations': 25,\n",
       "   'num_threads': 4,\n",
       "   'calculate_training_loss': True},\n",
       "  'pers_at_k': 0.13457394711067447,\n",
       "  'iteration': 118},\n",
       " {'params': {'factors': 200,\n",
       "   'regularization': 0.005,\n",
       "   'iterations': 20,\n",
       "   'num_threads': 4,\n",
       "   'calculate_training_loss': True},\n",
       "  'pers_at_k': 0.13320274240940136,\n",
       "  'iteration': 102},\n",
       " {'params': {'factors': 200,\n",
       "   'regularization': 0.1,\n",
       "   'iterations': 25,\n",
       "   'num_threads': 4,\n",
       "   'calculate_training_loss': True},\n",
       "  'pers_at_k': 0.13290891283055692,\n",
       "  'iteration': 113},\n",
       " {'params': {'factors': 200,\n",
       "   'regularization': 1,\n",
       "   'iterations': 100,\n",
       "   'num_threads': 4,\n",
       "   'calculate_training_loss': True},\n",
       "  'pers_at_k': 0.1304603330068548,\n",
       "  'iteration': 119},\n",
       " {'params': {'factors': 200,\n",
       "   'regularization': 0.001,\n",
       "   'iterations': 100,\n",
       "   'num_threads': 4,\n",
       "   'calculate_training_loss': True},\n",
       "  'pers_at_k': 0.1296767874632701,\n",
       "  'iteration': 94},\n",
       " {'params': {'factors': 200,\n",
       "   'regularization': 0.005,\n",
       "   'iterations': 100,\n",
       "   'num_threads': 4,\n",
       "   'calculate_training_loss': True},\n",
       "  'pers_at_k': 0.1293829578844259,\n",
       "  'iteration': 104},\n",
       " {'params': {'factors': 200,\n",
       "   'regularization': 0.0001,\n",
       "   'iterations': 15,\n",
       "   'num_threads': 4,\n",
       "   'calculate_training_loss': True},\n",
       "  'pers_at_k': 0.12908912830558172,\n",
       "  'iteration': 96},\n",
       " {'params': {'factors': 200,\n",
       "   'regularization': 0.001,\n",
       "   'iterations': 20,\n",
       "   'num_threads': 4,\n",
       "   'calculate_training_loss': True},\n",
       "  'pers_at_k': 0.1287952987267374,\n",
       "  'iteration': 92},\n",
       " {'params': {'factors': 200,\n",
       "   'regularization': 0.0001,\n",
       "   'iterations': 25,\n",
       "   'num_threads': 4,\n",
       "   'calculate_training_loss': True},\n",
       "  'pers_at_k': 0.12850146914789307,\n",
       "  'iteration': 98},\n",
       " {'params': {'factors': 200,\n",
       "   'regularization': 0.001,\n",
       "   'iterations': 25,\n",
       "   'num_threads': 4,\n",
       "   'calculate_training_loss': True},\n",
       "  'pers_at_k': 0.1284035259549449,\n",
       "  'iteration': 93},\n",
       " {'params': {'factors': 200,\n",
       "   'regularization': 0.1,\n",
       "   'iterations': 100,\n",
       "   'num_threads': 4,\n",
       "   'calculate_training_loss': True},\n",
       "  'pers_at_k': 0.12781586679725657,\n",
       "  'iteration': 114},\n",
       " {'params': {'factors': 200,\n",
       "   'regularization': 0.01,\n",
       "   'iterations': 100,\n",
       "   'num_threads': 4,\n",
       "   'calculate_training_loss': True},\n",
       "  'pers_at_k': 0.12742409402546417,\n",
       "  'iteration': 109},\n",
       " {'params': {'factors': 200,\n",
       "   'regularization': 0.0001,\n",
       "   'iterations': 100,\n",
       "   'num_threads': 4,\n",
       "   'calculate_training_loss': True},\n",
       "  'pers_at_k': 0.12713026444661985,\n",
       "  'iteration': 99}]"
      ]
     },
     "execution_count": 19,
     "metadata": {},
     "output_type": "execute_result"
    }
   ],
   "source": [
    "best_grid_search_results = sorted(grid_search_results, key=lambda x: x['pers_at_k'], reverse=True)\n",
    "best_grid_search_results"
   ]
  },
  {
   "cell_type": "code",
   "execution_count": 20,
   "metadata": {},
   "outputs": [
    {
     "data": {
      "text/plain": [
       "{'params': {'factors': 50,\n",
       "  'regularization': 0.01,\n",
       "  'iterations': 10,\n",
       "  'num_threads': 4,\n",
       "  'calculate_training_loss': True},\n",
       " 'pers_at_k': 0.17120470127325932,\n",
       " 'iteration': 15}"
      ]
     },
     "execution_count": 20,
     "metadata": {},
     "output_type": "execute_result"
    }
   ],
   "source": [
    "best_grid_search_results[0]"
   ]
  },
  {
   "cell_type": "code",
   "execution_count": null,
   "metadata": {},
   "outputs": [],
   "source": []
  }
 ],
 "metadata": {
  "kernelspec": {
   "display_name": "Python 3",
   "language": "python",
   "name": "python3"
  },
  "language_info": {
   "codemirror_mode": {
    "name": "ipython",
    "version": 3
   },
   "file_extension": ".py",
   "mimetype": "text/x-python",
   "name": "python",
   "nbconvert_exporter": "python",
   "pygments_lexer": "ipython3",
   "version": "3.8.3"
  }
 },
 "nbformat": 4,
 "nbformat_minor": 4
}
